{
 "cells": [
  {
   "cell_type": "code",
   "execution_count": 1,
   "id": "fa55274c-5eb2-4d01-8ce4-a8e392151e6c",
   "metadata": {},
   "outputs": [],
   "source": [
    "import numpy as np\n",
    "import pandas as pd"
   ]
  },
  {
   "cell_type": "code",
   "execution_count": 2,
   "id": "c78e6041-4add-4e36-b673-fe02787fa4e6",
   "metadata": {},
   "outputs": [],
   "source": [
    "data = pd.read_csv('dirty_cafe_sales.csv')"
   ]
  },
  {
   "cell_type": "code",
   "execution_count": 3,
   "id": "4772d179-84ac-4b21-b6f0-4f159de0114b",
   "metadata": {},
   "outputs": [
    {
     "data": {
      "text/html": [
       "<div>\n",
       "<style scoped>\n",
       "    .dataframe tbody tr th:only-of-type {\n",
       "        vertical-align: middle;\n",
       "    }\n",
       "\n",
       "    .dataframe tbody tr th {\n",
       "        vertical-align: top;\n",
       "    }\n",
       "\n",
       "    .dataframe thead th {\n",
       "        text-align: right;\n",
       "    }\n",
       "</style>\n",
       "<table border=\"1\" class=\"dataframe\">\n",
       "  <thead>\n",
       "    <tr style=\"text-align: right;\">\n",
       "      <th></th>\n",
       "      <th>Transaction ID</th>\n",
       "      <th>Item</th>\n",
       "      <th>Quantity</th>\n",
       "      <th>Price Per Unit</th>\n",
       "      <th>Total Spent</th>\n",
       "      <th>Payment Method</th>\n",
       "      <th>Location</th>\n",
       "      <th>Transaction Date</th>\n",
       "    </tr>\n",
       "  </thead>\n",
       "  <tbody>\n",
       "    <tr>\n",
       "      <th>0</th>\n",
       "      <td>TXN_1961373</td>\n",
       "      <td>Coffee</td>\n",
       "      <td>2</td>\n",
       "      <td>2</td>\n",
       "      <td>4</td>\n",
       "      <td>Credit Card</td>\n",
       "      <td>Takeaway</td>\n",
       "      <td>08-09-2023</td>\n",
       "    </tr>\n",
       "    <tr>\n",
       "      <th>1</th>\n",
       "      <td>TXN_4977031</td>\n",
       "      <td>Cake</td>\n",
       "      <td>4</td>\n",
       "      <td>3</td>\n",
       "      <td>12</td>\n",
       "      <td>Cash</td>\n",
       "      <td>In-store</td>\n",
       "      <td>16-05-2023</td>\n",
       "    </tr>\n",
       "    <tr>\n",
       "      <th>2</th>\n",
       "      <td>TXN_4271903</td>\n",
       "      <td>Cookie</td>\n",
       "      <td>4</td>\n",
       "      <td>1</td>\n",
       "      <td>ERROR</td>\n",
       "      <td>Credit Card</td>\n",
       "      <td>In-store</td>\n",
       "      <td>19-07-2023</td>\n",
       "    </tr>\n",
       "    <tr>\n",
       "      <th>3</th>\n",
       "      <td>TXN_7034554</td>\n",
       "      <td>Salad</td>\n",
       "      <td>2</td>\n",
       "      <td>5</td>\n",
       "      <td>10</td>\n",
       "      <td>UNKNOWN</td>\n",
       "      <td>UNKNOWN</td>\n",
       "      <td>27-04-2023</td>\n",
       "    </tr>\n",
       "    <tr>\n",
       "      <th>4</th>\n",
       "      <td>TXN_3160411</td>\n",
       "      <td>Coffee</td>\n",
       "      <td>2</td>\n",
       "      <td>2</td>\n",
       "      <td>4</td>\n",
       "      <td>Digital Wallet</td>\n",
       "      <td>In-store</td>\n",
       "      <td>11-06-2023</td>\n",
       "    </tr>\n",
       "  </tbody>\n",
       "</table>\n",
       "</div>"
      ],
      "text/plain": [
       "  Transaction ID    Item Quantity Price Per Unit Total Spent  Payment Method  \\\n",
       "0    TXN_1961373  Coffee        2              2           4     Credit Card   \n",
       "1    TXN_4977031    Cake        4              3          12            Cash   \n",
       "2    TXN_4271903  Cookie        4              1       ERROR     Credit Card   \n",
       "3    TXN_7034554   Salad        2              5          10         UNKNOWN   \n",
       "4    TXN_3160411  Coffee        2              2           4  Digital Wallet   \n",
       "\n",
       "   Location Transaction Date  \n",
       "0  Takeaway       08-09-2023  \n",
       "1  In-store       16-05-2023  \n",
       "2  In-store       19-07-2023  \n",
       "3   UNKNOWN       27-04-2023  \n",
       "4  In-store       11-06-2023  "
      ]
     },
     "execution_count": 3,
     "metadata": {},
     "output_type": "execute_result"
    }
   ],
   "source": [
    "data.head()"
   ]
  },
  {
   "cell_type": "code",
   "execution_count": 4,
   "id": "f38ed2d0-1bc6-4c3e-ad6c-3be7aff60025",
   "metadata": {},
   "outputs": [
    {
     "data": {
      "text/plain": [
       "(10000, 8)"
      ]
     },
     "execution_count": 4,
     "metadata": {},
     "output_type": "execute_result"
    }
   ],
   "source": [
    "data.shape"
   ]
  },
  {
   "cell_type": "code",
   "execution_count": 5,
   "id": "aec23bc9-766a-43bf-8d3a-6d660bb260a4",
   "metadata": {},
   "outputs": [
    {
     "data": {
      "text/plain": [
       "Index(['Transaction ID', 'Item', 'Quantity', 'Price Per Unit', 'Total Spent',\n",
       "       'Payment Method', 'Location', 'Transaction Date'],\n",
       "      dtype='object')"
      ]
     },
     "execution_count": 5,
     "metadata": {},
     "output_type": "execute_result"
    }
   ],
   "source": [
    "data.columns"
   ]
  },
  {
   "cell_type": "code",
   "execution_count": 6,
   "id": "907a3b8d-5099-46ed-a6ba-230d961e61a9",
   "metadata": {},
   "outputs": [
    {
     "name": "stdout",
     "output_type": "stream",
     "text": [
      "<class 'pandas.core.frame.DataFrame'>\n",
      "RangeIndex: 10000 entries, 0 to 9999\n",
      "Data columns (total 8 columns):\n",
      " #   Column            Non-Null Count  Dtype \n",
      "---  ------            --------------  ----- \n",
      " 0   Transaction ID    10000 non-null  object\n",
      " 1   Item              9667 non-null   object\n",
      " 2   Quantity          9862 non-null   object\n",
      " 3   Price Per Unit    9821 non-null   object\n",
      " 4   Total Spent       9827 non-null   object\n",
      " 5   Payment Method    7421 non-null   object\n",
      " 6   Location          6735 non-null   object\n",
      " 7   Transaction Date  9841 non-null   object\n",
      "dtypes: object(8)\n",
      "memory usage: 625.1+ KB\n"
     ]
    }
   ],
   "source": [
    "data.info()"
   ]
  },
  {
   "cell_type": "code",
   "execution_count": 7,
   "id": "951dc781-ced2-448d-a2a6-2116381f756e",
   "metadata": {},
   "outputs": [
    {
     "data": {
      "text/html": [
       "<div>\n",
       "<style scoped>\n",
       "    .dataframe tbody tr th:only-of-type {\n",
       "        vertical-align: middle;\n",
       "    }\n",
       "\n",
       "    .dataframe tbody tr th {\n",
       "        vertical-align: top;\n",
       "    }\n",
       "\n",
       "    .dataframe thead th {\n",
       "        text-align: right;\n",
       "    }\n",
       "</style>\n",
       "<table border=\"1\" class=\"dataframe\">\n",
       "  <thead>\n",
       "    <tr style=\"text-align: right;\">\n",
       "      <th></th>\n",
       "      <th>Transaction ID</th>\n",
       "      <th>Item</th>\n",
       "      <th>Quantity</th>\n",
       "      <th>Price Per Unit</th>\n",
       "      <th>Total Spent</th>\n",
       "      <th>Payment Method</th>\n",
       "      <th>Location</th>\n",
       "      <th>Transaction Date</th>\n",
       "    </tr>\n",
       "  </thead>\n",
       "  <tbody>\n",
       "    <tr>\n",
       "      <th>count</th>\n",
       "      <td>10000</td>\n",
       "      <td>9667</td>\n",
       "      <td>9862</td>\n",
       "      <td>9821</td>\n",
       "      <td>9827</td>\n",
       "      <td>7421</td>\n",
       "      <td>6735</td>\n",
       "      <td>9841</td>\n",
       "    </tr>\n",
       "    <tr>\n",
       "      <th>unique</th>\n",
       "      <td>10000</td>\n",
       "      <td>10</td>\n",
       "      <td>7</td>\n",
       "      <td>8</td>\n",
       "      <td>19</td>\n",
       "      <td>5</td>\n",
       "      <td>4</td>\n",
       "      <td>367</td>\n",
       "    </tr>\n",
       "    <tr>\n",
       "      <th>top</th>\n",
       "      <td>TXN_9226047</td>\n",
       "      <td>Juice</td>\n",
       "      <td>5</td>\n",
       "      <td>3</td>\n",
       "      <td>6</td>\n",
       "      <td>Digital Wallet</td>\n",
       "      <td>Takeaway</td>\n",
       "      <td>UNKNOWN</td>\n",
       "    </tr>\n",
       "    <tr>\n",
       "      <th>freq</th>\n",
       "      <td>1</td>\n",
       "      <td>1171</td>\n",
       "      <td>2013</td>\n",
       "      <td>2429</td>\n",
       "      <td>979</td>\n",
       "      <td>2291</td>\n",
       "      <td>3022</td>\n",
       "      <td>159</td>\n",
       "    </tr>\n",
       "  </tbody>\n",
       "</table>\n",
       "</div>"
      ],
      "text/plain": [
       "       Transaction ID   Item Quantity Price Per Unit Total Spent  \\\n",
       "count           10000   9667     9862           9821        9827   \n",
       "unique          10000     10        7              8          19   \n",
       "top       TXN_9226047  Juice        5              3           6   \n",
       "freq                1   1171     2013           2429         979   \n",
       "\n",
       "        Payment Method  Location Transaction Date  \n",
       "count             7421      6735             9841  \n",
       "unique               5         4              367  \n",
       "top     Digital Wallet  Takeaway          UNKNOWN  \n",
       "freq              2291      3022              159  "
      ]
     },
     "execution_count": 7,
     "metadata": {},
     "output_type": "execute_result"
    }
   ],
   "source": [
    "data.describe()"
   ]
  },
  {
   "cell_type": "code",
   "execution_count": 8,
   "id": "bbbac03f-4ad2-4c91-ab6f-9251b37d384e",
   "metadata": {},
   "outputs": [
    {
     "data": {
      "text/plain": [
       "Transaction ID  Item      Quantity  Price Per Unit  Total Spent  Payment Method  Location  Transaction Date\n",
       "TXN_9999124     Juice     2         3               6            Digital Wallet  Takeaway  UNKNOWN             1\n",
       "TXN_1000555     Tea       1         1.5             1.5          Credit Card     In-store  19-10-2023          1\n",
       "TXN_1001832     Salad     2         5               10           Cash            Takeaway  UNKNOWN             1\n",
       "TXN_1002457     Cookie    5         1               5            Digital Wallet  Takeaway  29-09-2023          1\n",
       "TXN_1004184     Smoothie  1         4               4            Credit Card     In-store  18-05-2023          1\n",
       "                                                                                                              ..\n",
       "TXN_1010950     Cookie    ERROR     1               1            Digital Wallet  Takeaway  07-01-2023          1\n",
       "TXN_1009421     Cookie    4         1               4            Cash            Takeaway  21-02-2023          1\n",
       "TXN_1007347     Salad     4         5               20           Digital Wallet  In-store  28-08-2023          1\n",
       "TXN_1006942     Salad     1         5               5            Credit Card     In-store  30-11-2023          1\n",
       "TXN_1005377     Cake      5         UNKNOWN         15           Digital Wallet  Takeaway  03-06-2023          1\n",
       "Name: count, Length: 4550, dtype: int64"
      ]
     },
     "execution_count": 8,
     "metadata": {},
     "output_type": "execute_result"
    }
   ],
   "source": [
    "data.value_counts()  ## wrong way"
   ]
  },
  {
   "cell_type": "code",
   "execution_count": 9,
   "id": "5c576237-997c-449a-9c8b-19e97684a439",
   "metadata": {},
   "outputs": [
    {
     "data": {
      "text/plain": [
       "Item\n",
       "Juice       1171\n",
       "Coffee      1165\n",
       "Salad       1148\n",
       "Cake        1139\n",
       "Sandwich    1131\n",
       "Smoothie    1096\n",
       "Cookie      1092\n",
       "Tea         1089\n",
       "UNKNOWN      344\n",
       "ERROR        292\n",
       "Name: count, dtype: int64"
      ]
     },
     "execution_count": 9,
     "metadata": {},
     "output_type": "execute_result"
    }
   ],
   "source": [
    "data['Item'].value_counts()"
   ]
  },
  {
   "cell_type": "code",
   "execution_count": 10,
   "id": "4e0cda11-f127-436f-8705-b66982f0352f",
   "metadata": {},
   "outputs": [
    {
     "data": {
      "text/plain": [
       "Quantity\n",
       "5          2013\n",
       "2          1974\n",
       "4          1863\n",
       "3          1849\n",
       "1          1822\n",
       "UNKNOWN     171\n",
       "ERROR       170\n",
       "Name: count, dtype: int64"
      ]
     },
     "execution_count": 10,
     "metadata": {},
     "output_type": "execute_result"
    }
   ],
   "source": [
    "data['Quantity'].value_counts()"
   ]
  },
  {
   "cell_type": "code",
   "execution_count": 11,
   "id": "dd6033cb-2641-4fbc-b856-52f3881c5ae4",
   "metadata": {},
   "outputs": [
    {
     "data": {
      "text/plain": [
       "Price Per Unit\n",
       "3          2429\n",
       "4          2331\n",
       "2          1227\n",
       "5          1204\n",
       "1          1143\n",
       "1.5        1133\n",
       "ERROR       190\n",
       "UNKNOWN     164\n",
       "Name: count, dtype: int64"
      ]
     },
     "execution_count": 11,
     "metadata": {},
     "output_type": "execute_result"
    }
   ],
   "source": [
    "data['Price Per Unit'].value_counts()"
   ]
  },
  {
   "cell_type": "code",
   "execution_count": 12,
   "id": "712f455e-f0cb-409a-b4cd-0107dee1b45f",
   "metadata": {},
   "outputs": [
    {
     "data": {
      "text/plain": [
       "Total Spent\n",
       "6          979\n",
       "12         939\n",
       "3          930\n",
       "4          923\n",
       "20         746\n",
       "15         734\n",
       "8          677\n",
       "10         524\n",
       "2          497\n",
       "9          479\n",
       "5          468\n",
       "16         444\n",
       "25         259\n",
       "7.5        237\n",
       "1          232\n",
       "4.5        225\n",
       "1.5        205\n",
       "UNKNOWN    165\n",
       "ERROR      164\n",
       "Name: count, dtype: int64"
      ]
     },
     "execution_count": 12,
     "metadata": {},
     "output_type": "execute_result"
    }
   ],
   "source": [
    "data['Total Spent'].value_counts()"
   ]
  },
  {
   "cell_type": "code",
   "execution_count": 13,
   "id": "a5cef677-7bbf-49b7-b7d9-5b78731585d3",
   "metadata": {},
   "outputs": [
    {
     "data": {
      "text/plain": [
       "Payment Method\n",
       "Digital Wallet    2291\n",
       "Credit Card       2273\n",
       "Cash              2258\n",
       "ERROR              306\n",
       "UNKNOWN            293\n",
       "Name: count, dtype: int64"
      ]
     },
     "execution_count": 13,
     "metadata": {},
     "output_type": "execute_result"
    }
   ],
   "source": [
    "data['Payment Method'].value_counts()"
   ]
  },
  {
   "cell_type": "code",
   "execution_count": 14,
   "id": "5f13813d-bd54-48be-b44b-ca2103bf6202",
   "metadata": {},
   "outputs": [
    {
     "data": {
      "text/plain": [
       "Location\n",
       "Takeaway    3022\n",
       "In-store    3017\n",
       "ERROR        358\n",
       "UNKNOWN      338\n",
       "Name: count, dtype: int64"
      ]
     },
     "execution_count": 14,
     "metadata": {},
     "output_type": "execute_result"
    }
   ],
   "source": [
    "data['Location'].value_counts()"
   ]
  },
  {
   "cell_type": "code",
   "execution_count": 15,
   "id": "cf776d31-b29d-4c35-bd92-d9320c353ca4",
   "metadata": {},
   "outputs": [
    {
     "data": {
      "text/plain": [
       "Transaction Date\n",
       "UNKNOWN       159\n",
       "ERROR         142\n",
       "16-06-2023     40\n",
       "06-02-2023     40\n",
       "21-09-2023     39\n",
       "             ... \n",
       "24-11-2023     15\n",
       "30-07-2023     15\n",
       "22-07-2023     14\n",
       "11-03-2023     14\n",
       "17-02-2023     14\n",
       "Name: count, Length: 367, dtype: int64"
      ]
     },
     "execution_count": 15,
     "metadata": {},
     "output_type": "execute_result"
    }
   ],
   "source": [
    "data['Transaction Date'].value_counts()"
   ]
  },
  {
   "cell_type": "code",
   "execution_count": 16,
   "id": "9e968242-33c1-4f76-afae-3d904e853d7c",
   "metadata": {},
   "outputs": [
    {
     "data": {
      "text/plain": [
       "Transaction ID         0\n",
       "Item                 333\n",
       "Quantity             138\n",
       "Price Per Unit       179\n",
       "Total Spent          173\n",
       "Payment Method      2579\n",
       "Location            3265\n",
       "Transaction Date     159\n",
       "dtype: int64"
      ]
     },
     "execution_count": 16,
     "metadata": {},
     "output_type": "execute_result"
    }
   ],
   "source": [
    "data.isnull().sum()"
   ]
  },
  {
   "cell_type": "markdown",
   "id": "421fc39a-ad05-4cd0-9809-aad4327ce8b5",
   "metadata": {},
   "source": [
    "## Drop transaction ID"
   ]
  },
  {
   "cell_type": "code",
   "execution_count": 17,
   "id": "70b19d4f-8220-493f-b30f-bc699df7297a",
   "metadata": {},
   "outputs": [],
   "source": [
    "data.drop('Transaction ID', axis = 1, inplace = True)"
   ]
  },
  {
   "cell_type": "code",
   "execution_count": 18,
   "id": "7f223ed9-a596-4cb8-99f9-d5921330c68f",
   "metadata": {},
   "outputs": [
    {
     "data": {
      "text/html": [
       "<div>\n",
       "<style scoped>\n",
       "    .dataframe tbody tr th:only-of-type {\n",
       "        vertical-align: middle;\n",
       "    }\n",
       "\n",
       "    .dataframe tbody tr th {\n",
       "        vertical-align: top;\n",
       "    }\n",
       "\n",
       "    .dataframe thead th {\n",
       "        text-align: right;\n",
       "    }\n",
       "</style>\n",
       "<table border=\"1\" class=\"dataframe\">\n",
       "  <thead>\n",
       "    <tr style=\"text-align: right;\">\n",
       "      <th></th>\n",
       "      <th>Item</th>\n",
       "      <th>Quantity</th>\n",
       "      <th>Price Per Unit</th>\n",
       "      <th>Total Spent</th>\n",
       "      <th>Payment Method</th>\n",
       "      <th>Location</th>\n",
       "      <th>Transaction Date</th>\n",
       "    </tr>\n",
       "  </thead>\n",
       "  <tbody>\n",
       "    <tr>\n",
       "      <th>0</th>\n",
       "      <td>Coffee</td>\n",
       "      <td>2</td>\n",
       "      <td>2</td>\n",
       "      <td>4</td>\n",
       "      <td>Credit Card</td>\n",
       "      <td>Takeaway</td>\n",
       "      <td>08-09-2023</td>\n",
       "    </tr>\n",
       "    <tr>\n",
       "      <th>1</th>\n",
       "      <td>Cake</td>\n",
       "      <td>4</td>\n",
       "      <td>3</td>\n",
       "      <td>12</td>\n",
       "      <td>Cash</td>\n",
       "      <td>In-store</td>\n",
       "      <td>16-05-2023</td>\n",
       "    </tr>\n",
       "    <tr>\n",
       "      <th>2</th>\n",
       "      <td>Cookie</td>\n",
       "      <td>4</td>\n",
       "      <td>1</td>\n",
       "      <td>ERROR</td>\n",
       "      <td>Credit Card</td>\n",
       "      <td>In-store</td>\n",
       "      <td>19-07-2023</td>\n",
       "    </tr>\n",
       "    <tr>\n",
       "      <th>3</th>\n",
       "      <td>Salad</td>\n",
       "      <td>2</td>\n",
       "      <td>5</td>\n",
       "      <td>10</td>\n",
       "      <td>UNKNOWN</td>\n",
       "      <td>UNKNOWN</td>\n",
       "      <td>27-04-2023</td>\n",
       "    </tr>\n",
       "    <tr>\n",
       "      <th>4</th>\n",
       "      <td>Coffee</td>\n",
       "      <td>2</td>\n",
       "      <td>2</td>\n",
       "      <td>4</td>\n",
       "      <td>Digital Wallet</td>\n",
       "      <td>In-store</td>\n",
       "      <td>11-06-2023</td>\n",
       "    </tr>\n",
       "  </tbody>\n",
       "</table>\n",
       "</div>"
      ],
      "text/plain": [
       "     Item Quantity Price Per Unit Total Spent  Payment Method  Location  \\\n",
       "0  Coffee        2              2           4     Credit Card  Takeaway   \n",
       "1    Cake        4              3          12            Cash  In-store   \n",
       "2  Cookie        4              1       ERROR     Credit Card  In-store   \n",
       "3   Salad        2              5          10         UNKNOWN   UNKNOWN   \n",
       "4  Coffee        2              2           4  Digital Wallet  In-store   \n",
       "\n",
       "  Transaction Date  \n",
       "0       08-09-2023  \n",
       "1       16-05-2023  \n",
       "2       19-07-2023  \n",
       "3       27-04-2023  \n",
       "4       11-06-2023  "
      ]
     },
     "execution_count": 18,
     "metadata": {},
     "output_type": "execute_result"
    }
   ],
   "source": [
    "data.head()"
   ]
  },
  {
   "cell_type": "markdown",
   "id": "bf0bda39-7f5e-4330-b38a-a413801c3b81",
   "metadata": {},
   "source": [
    "## Show data types to convert each columns to the suitable Type"
   ]
  },
  {
   "cell_type": "code",
   "execution_count": 19,
   "id": "2916a9da-f1da-43e2-9f84-3a3f785e098a",
   "metadata": {},
   "outputs": [
    {
     "data": {
      "text/plain": [
       "Item                object\n",
       "Quantity            object\n",
       "Price Per Unit      object\n",
       "Total Spent         object\n",
       "Payment Method      object\n",
       "Location            object\n",
       "Transaction Date    object\n",
       "dtype: object"
      ]
     },
     "execution_count": 19,
     "metadata": {},
     "output_type": "execute_result"
    }
   ],
   "source": [
    "data.dtypes"
   ]
  },
  {
   "cell_type": "markdown",
   "id": "38369d32-db3f-42a0-b02d-3a331be73c19",
   "metadata": {},
   "source": [
    "#### Quantity, Price per unit, total spent : Numeric\n",
    "\n",
    "#### Item, Payment Method, Location : Categorical\n",
    "\n",
    "#### Transaction Date : Date/Time"
   ]
  },
  {
   "cell_type": "code",
   "execution_count": 20,
   "id": "096d301e-bc19-4925-a504-50e2c15255ea",
   "metadata": {},
   "outputs": [
    {
     "name": "stdout",
     "output_type": "stream",
     "text": [
      "Total problematic rows: 479\n",
      "\n",
      "Sample of problematic rows:\n",
      "         Item Quantity Price Per Unit Total Spent  Payment Method  Location  \\\n",
      "20   Smoothie    ERROR              4          20            Cash  In-store   \n",
      "55     Cookie    ERROR              1           2     Credit Card  Takeaway   \n",
      "57       Cake  UNKNOWN              3           3  Digital Wallet  In-store   \n",
      "66      Juice      NaN              3           6            Cash       NaN   \n",
      "117     Juice    ERROR              3           9  Digital Wallet   UNKNOWN   \n",
      "\n",
      "    Transaction Date  \n",
      "20        04-04-2023  \n",
      "55        19-03-2023  \n",
      "57        19-04-2023  \n",
      "66        30-03-2023  \n",
      "117       10-01-2023  \n",
      "\n",
      "Breakdown of problematic Quantity values:\n",
      "Quantity\n",
      "UNKNOWN    171\n",
      "ERROR      170\n",
      "NAN        138\n",
      "Name: count, dtype: int64\n"
     ]
    }
   ],
   "source": [
    "def is_problematic_quantity(value):\n",
    "    # Convert to string to handle different input types\n",
    "    str_value = str(value).strip().upper()\n",
    "    \n",
    "    # Check for various problematic conditions\n",
    "    return (\n",
    "        pd.isna(value) or  # Null/NaN values\n",
    "        str_value == '' or  # Empty string\n",
    "        str_value == 'ERROR' or  # Explicit ERROR\n",
    "        str_value == 'UNKNOWN' or  # Explicit UNKNOWN\n",
    "        str_value == 'NULL'  # Explicit NULL\n",
    "    )\n",
    "\n",
    "# Filter rows with problematic Quantity values\n",
    "problematic_rows = data[data['Quantity'].apply(is_problematic_quantity)]\n",
    "\n",
    "# Print results\n",
    "print(\"Total problematic rows:\", len(problematic_rows))\n",
    "print(\"\\nSample of problematic rows:\")\n",
    "print(problematic_rows.head())\n",
    "\n",
    "# Optional: Save problematic rows to a new CSV\n",
    "problematic_rows.to_csv('problematic_quantity_rows.csv', index=False)\n",
    "\n",
    "# Breakdown of different types of problematic values\n",
    "value_counts = problematic_rows['Quantity'].apply(lambda x: str(x).strip().upper()).value_counts()\n",
    "print(\"\\nBreakdown of problematic Quantity values:\")\n",
    "print(value_counts)"
   ]
  },
  {
   "cell_type": "markdown",
   "id": "97065e0c-a60f-4a15-be35-1d3c3ea7c9d3",
   "metadata": {},
   "source": [
    "### Drop rows with UNKONOWN or ERROR values in items"
   ]
  },
  {
   "cell_type": "code",
   "execution_count": 21,
   "id": "7cc78dec-b9a3-4eea-9baa-8b34db1f1a49",
   "metadata": {},
   "outputs": [
    {
     "data": {
      "text/plain": [
       "Item\n",
       "False    9667\n",
       "True      333\n",
       "Name: count, dtype: int64"
      ]
     },
     "execution_count": 21,
     "metadata": {},
     "output_type": "execute_result"
    }
   ],
   "source": [
    "pd.isnull(data['Item']).value_counts()"
   ]
  },
  {
   "cell_type": "code",
   "execution_count": 22,
   "id": "82f9e9fd-1848-4439-85b5-fd53202d9088",
   "metadata": {},
   "outputs": [],
   "source": [
    "data.dropna(subset = ['Item'], axis = 0, inplace = True)"
   ]
  },
  {
   "cell_type": "code",
   "execution_count": 23,
   "id": "e869e95d-32aa-458f-856d-00baed5ec9f1",
   "metadata": {},
   "outputs": [
    {
     "data": {
      "text/plain": [
       "Item\n",
       "False    9667\n",
       "Name: count, dtype: int64"
      ]
     },
     "execution_count": 23,
     "metadata": {},
     "output_type": "execute_result"
    }
   ],
   "source": [
    "pd.isnull(data['Item']).value_counts()"
   ]
  },
  {
   "cell_type": "code",
   "execution_count": 24,
   "id": "f620adad-014a-4e8d-9c74-1bd255f5f82f",
   "metadata": {},
   "outputs": [],
   "source": [
    "# In-place drop\n",
    "data.drop(data[data['Item'].isin(['UNKNOWN', 'ERROR'])].index, inplace = True)"
   ]
  },
  {
   "cell_type": "code",
   "execution_count": 25,
   "id": "2ecd84ab-68cc-4ff1-a9c1-183213bd2efc",
   "metadata": {},
   "outputs": [
    {
     "data": {
      "text/plain": [
       "Item\n",
       "Juice       1171\n",
       "Coffee      1165\n",
       "Salad       1148\n",
       "Cake        1139\n",
       "Sandwich    1131\n",
       "Smoothie    1096\n",
       "Cookie      1092\n",
       "Tea         1089\n",
       "Name: count, dtype: int64"
      ]
     },
     "execution_count": 25,
     "metadata": {},
     "output_type": "execute_result"
    }
   ],
   "source": [
    "data['Item'].value_counts()"
   ]
  },
  {
   "cell_type": "code",
   "execution_count": 26,
   "id": "6115b6de-a4bc-40a6-a78d-fcf4469bac67",
   "metadata": {},
   "outputs": [
    {
     "data": {
      "text/html": [
       "<div>\n",
       "<style scoped>\n",
       "    .dataframe tbody tr th:only-of-type {\n",
       "        vertical-align: middle;\n",
       "    }\n",
       "\n",
       "    .dataframe tbody tr th {\n",
       "        vertical-align: top;\n",
       "    }\n",
       "\n",
       "    .dataframe thead th {\n",
       "        text-align: right;\n",
       "    }\n",
       "</style>\n",
       "<table border=\"1\" class=\"dataframe\">\n",
       "  <thead>\n",
       "    <tr style=\"text-align: right;\">\n",
       "      <th></th>\n",
       "      <th>Item</th>\n",
       "      <th>Quantity</th>\n",
       "      <th>Price Per Unit</th>\n",
       "      <th>Total Spent</th>\n",
       "      <th>Payment Method</th>\n",
       "      <th>Location</th>\n",
       "      <th>Transaction Date</th>\n",
       "    </tr>\n",
       "  </thead>\n",
       "  <tbody>\n",
       "    <tr>\n",
       "      <th>count</th>\n",
       "      <td>9031</td>\n",
       "      <td>8910</td>\n",
       "      <td>8873</td>\n",
       "      <td>8877</td>\n",
       "      <td>6701</td>\n",
       "      <td>6086</td>\n",
       "      <td>8888</td>\n",
       "    </tr>\n",
       "    <tr>\n",
       "      <th>unique</th>\n",
       "      <td>8</td>\n",
       "      <td>7</td>\n",
       "      <td>8</td>\n",
       "      <td>19</td>\n",
       "      <td>5</td>\n",
       "      <td>4</td>\n",
       "      <td>367</td>\n",
       "    </tr>\n",
       "    <tr>\n",
       "      <th>top</th>\n",
       "      <td>Juice</td>\n",
       "      <td>5</td>\n",
       "      <td>3</td>\n",
       "      <td>6</td>\n",
       "      <td>Digital Wallet</td>\n",
       "      <td>Takeaway</td>\n",
       "      <td>UNKNOWN</td>\n",
       "    </tr>\n",
       "    <tr>\n",
       "      <th>freq</th>\n",
       "      <td>1171</td>\n",
       "      <td>1834</td>\n",
       "      <td>2195</td>\n",
       "      <td>882</td>\n",
       "      <td>2065</td>\n",
       "      <td>2725</td>\n",
       "      <td>145</td>\n",
       "    </tr>\n",
       "  </tbody>\n",
       "</table>\n",
       "</div>"
      ],
      "text/plain": [
       "         Item Quantity Price Per Unit Total Spent  Payment Method  Location  \\\n",
       "count    9031     8910           8873        8877            6701      6086   \n",
       "unique      8        7              8          19               5         4   \n",
       "top     Juice        5              3           6  Digital Wallet  Takeaway   \n",
       "freq     1171     1834           2195         882            2065      2725   \n",
       "\n",
       "       Transaction Date  \n",
       "count              8888  \n",
       "unique              367  \n",
       "top             UNKNOWN  \n",
       "freq                145  "
      ]
     },
     "execution_count": 26,
     "metadata": {},
     "output_type": "execute_result"
    }
   ],
   "source": [
    "data.describe()"
   ]
  },
  {
   "cell_type": "code",
   "execution_count": 27,
   "id": "6a926ad3-dd27-4cab-9e72-3b915ae106b3",
   "metadata": {},
   "outputs": [
    {
     "data": {
      "text/plain": [
       "np.int64(0)"
      ]
     },
     "execution_count": 27,
     "metadata": {},
     "output_type": "execute_result"
    }
   ],
   "source": [
    "pd.isnull(data['Item']).sum()"
   ]
  },
  {
   "cell_type": "code",
   "execution_count": 28,
   "id": "4d6df2eb-011d-4c1e-9396-01945b6834b4",
   "metadata": {},
   "outputs": [
    {
     "data": {
      "text/plain": [
       "np.int64(9031)"
      ]
     },
     "execution_count": 28,
     "metadata": {},
     "output_type": "execute_result"
    }
   ],
   "source": [
    "pd.notnull(data['Item']).sum()"
   ]
  },
  {
   "cell_type": "markdown",
   "id": "fe7245a2-2ffd-4fd9-814b-e8bd3bf2ef78",
   "metadata": {},
   "source": [
    "### convert to numeric"
   ]
  },
  {
   "cell_type": "code",
   "execution_count": 29,
   "id": "a3d04e69-17d4-4032-97ca-8ef0831d6a59",
   "metadata": {},
   "outputs": [],
   "source": [
    "def clean_and_convert_numeric(data, columns_to_convert):\n",
    "    # Create a copy of the DataFrame to avoid modifying the original\n",
    "    cleaned_data = data.copy()\n",
    "\n",
    "    for column in columns_to_convert:\n",
    "        def clean_numeric_value(value):\n",
    "            if pd.isna(value):\n",
    "                return np.nan\n",
    "\n",
    "            str_value = str(value).strip()\n",
    "\n",
    "            ignore_values = [\n",
    "                '', 'NULL', 'UNKNOWN', 'ERROR', 'NA', 'N/A', \n",
    "                '-', '?', 'NAN', 'NONE'\n",
    "            ]\n",
    "\n",
    "             # Convert to lowercase for case-insensitive comparison\n",
    "            if str_value.lower() in [v.lower() for v in ignore_values]:\n",
    "                return np.nan\n",
    "\n",
    "            # Remove currency symbols and commas\n",
    "            str_value = str_value.replace('$', '').replace(',', '')\n",
    "\n",
    "            try:\n",
    "                # Attempt to convert to float\n",
    "                return float(str_value)\n",
    "            except (ValueError, TypeError):\n",
    "                # Return NaN for any conversion errors\n",
    "                return np.nan\n",
    "\n",
    "            # Apply cleaning and conversion\n",
    "        cleaned_data[column] = cleaned_data[column].apply(clean_numeric_value)\n",
    "        \n",
    "        # Convert to numeric, coercing any remaining issues to NaN\n",
    "        cleaned_data[column] = pd.to_numeric(cleaned_data[column], errors='coerce')\n",
    "\n",
    "    return cleaned_data\n",
    "\n",
    "# Columns to convert to numeric\n",
    "numeric_columns = ['Quantity', 'Price Per Unit', 'Total Spent']\n",
    "\n",
    "# Clean and convert numeric columns\n",
    "cleaned_data = clean_and_convert_numeric(data, numeric_columns)"
   ]
  },
  {
   "cell_type": "code",
   "execution_count": 30,
   "id": "5e1f6793-85b7-40b7-b0b6-0d4bcac141e6",
   "metadata": {},
   "outputs": [
    {
     "data": {
      "text/html": [
       "<div>\n",
       "<style scoped>\n",
       "    .dataframe tbody tr th:only-of-type {\n",
       "        vertical-align: middle;\n",
       "    }\n",
       "\n",
       "    .dataframe tbody tr th {\n",
       "        vertical-align: top;\n",
       "    }\n",
       "\n",
       "    .dataframe thead th {\n",
       "        text-align: right;\n",
       "    }\n",
       "</style>\n",
       "<table border=\"1\" class=\"dataframe\">\n",
       "  <thead>\n",
       "    <tr style=\"text-align: right;\">\n",
       "      <th></th>\n",
       "      <th>Item</th>\n",
       "      <th>Quantity</th>\n",
       "      <th>Price Per Unit</th>\n",
       "      <th>Total Spent</th>\n",
       "      <th>Payment Method</th>\n",
       "      <th>Location</th>\n",
       "      <th>Transaction Date</th>\n",
       "    </tr>\n",
       "  </thead>\n",
       "  <tbody>\n",
       "    <tr>\n",
       "      <th>0</th>\n",
       "      <td>Coffee</td>\n",
       "      <td>2.0</td>\n",
       "      <td>2.0</td>\n",
       "      <td>4.0</td>\n",
       "      <td>Credit Card</td>\n",
       "      <td>Takeaway</td>\n",
       "      <td>08-09-2023</td>\n",
       "    </tr>\n",
       "    <tr>\n",
       "      <th>1</th>\n",
       "      <td>Cake</td>\n",
       "      <td>4.0</td>\n",
       "      <td>3.0</td>\n",
       "      <td>12.0</td>\n",
       "      <td>Cash</td>\n",
       "      <td>In-store</td>\n",
       "      <td>16-05-2023</td>\n",
       "    </tr>\n",
       "    <tr>\n",
       "      <th>2</th>\n",
       "      <td>Cookie</td>\n",
       "      <td>4.0</td>\n",
       "      <td>1.0</td>\n",
       "      <td>NaN</td>\n",
       "      <td>Credit Card</td>\n",
       "      <td>In-store</td>\n",
       "      <td>19-07-2023</td>\n",
       "    </tr>\n",
       "    <tr>\n",
       "      <th>3</th>\n",
       "      <td>Salad</td>\n",
       "      <td>2.0</td>\n",
       "      <td>5.0</td>\n",
       "      <td>10.0</td>\n",
       "      <td>UNKNOWN</td>\n",
       "      <td>UNKNOWN</td>\n",
       "      <td>27-04-2023</td>\n",
       "    </tr>\n",
       "    <tr>\n",
       "      <th>4</th>\n",
       "      <td>Coffee</td>\n",
       "      <td>2.0</td>\n",
       "      <td>2.0</td>\n",
       "      <td>4.0</td>\n",
       "      <td>Digital Wallet</td>\n",
       "      <td>In-store</td>\n",
       "      <td>11-06-2023</td>\n",
       "    </tr>\n",
       "  </tbody>\n",
       "</table>\n",
       "</div>"
      ],
      "text/plain": [
       "     Item  Quantity  Price Per Unit  Total Spent  Payment Method  Location  \\\n",
       "0  Coffee       2.0             2.0          4.0     Credit Card  Takeaway   \n",
       "1    Cake       4.0             3.0         12.0            Cash  In-store   \n",
       "2  Cookie       4.0             1.0          NaN     Credit Card  In-store   \n",
       "3   Salad       2.0             5.0         10.0         UNKNOWN   UNKNOWN   \n",
       "4  Coffee       2.0             2.0          4.0  Digital Wallet  In-store   \n",
       "\n",
       "  Transaction Date  \n",
       "0       08-09-2023  \n",
       "1       16-05-2023  \n",
       "2       19-07-2023  \n",
       "3       27-04-2023  \n",
       "4       11-06-2023  "
      ]
     },
     "execution_count": 30,
     "metadata": {},
     "output_type": "execute_result"
    }
   ],
   "source": [
    "cleaned_data.head()"
   ]
  },
  {
   "cell_type": "code",
   "execution_count": 31,
   "id": "1f512344-c203-4af9-9305-5e048015b86e",
   "metadata": {},
   "outputs": [
    {
     "data": {
      "text/plain": [
       "Quantity          float64\n",
       "Price Per Unit    float64\n",
       "Total Spent       float64\n",
       "dtype: object"
      ]
     },
     "execution_count": 31,
     "metadata": {},
     "output_type": "execute_result"
    }
   ],
   "source": [
    "cleaned_data[numeric_columns].dtypes"
   ]
  },
  {
   "cell_type": "code",
   "execution_count": 32,
   "id": "e321e0f0-ad19-4222-b061-c4476172a926",
   "metadata": {},
   "outputs": [
    {
     "data": {
      "text/plain": [
       "(9031, 3)"
      ]
     },
     "execution_count": 32,
     "metadata": {},
     "output_type": "execute_result"
    }
   ],
   "source": [
    "cleaned_data[numeric_columns].shape"
   ]
  },
  {
   "cell_type": "code",
   "execution_count": 33,
   "id": "389c362a-1614-468b-afef-103993692172",
   "metadata": {},
   "outputs": [
    {
     "name": "stdout",
     "output_type": "stream",
     "text": [
      "\n",
      "Quantity Column Analysis:\n",
      "Total rows: 9031\n",
      "Non-null rows after conversion: 8611\n",
      "Null/Ignored rows: 420\n",
      "Basic Statistics:\n",
      "count    8611.000000\n",
      "mean        3.029846\n",
      "std         1.422212\n",
      "min         1.000000\n",
      "25%         2.000000\n",
      "50%         3.000000\n",
      "75%         4.000000\n",
      "max         5.000000\n",
      "Name: Quantity, dtype: float64\n",
      "\n",
      "Price Per Unit Column Analysis:\n",
      "Total rows: 9031\n",
      "Non-null rows after conversion: 8552\n",
      "Null/Ignored rows: 479\n",
      "Basic Statistics:\n",
      "count    8552.000000\n",
      "mean        2.951766\n",
      "std         1.276793\n",
      "min         1.000000\n",
      "25%         2.000000\n",
      "50%         3.000000\n",
      "75%         4.000000\n",
      "max         5.000000\n",
      "Name: Price Per Unit, dtype: float64\n",
      "\n",
      "Total Spent Column Analysis:\n",
      "Total rows: 9031\n",
      "Non-null rows after conversion: 8579\n",
      "Null/Ignored rows: 452\n",
      "Basic Statistics:\n",
      "count    8579.000000\n",
      "mean        8.931519\n",
      "std         6.019553\n",
      "min         1.000000\n",
      "25%         4.000000\n",
      "50%         8.000000\n",
      "75%        12.000000\n",
      "max        25.000000\n",
      "Name: Total Spent, dtype: float64\n"
     ]
    }
   ],
   "source": [
    "# Summary of conversions\n",
    "for column in numeric_columns:\n",
    "    print(f\"\\n{column} Column Analysis:\")\n",
    "    print(\"Total rows:\", len(data))\n",
    "    print(\"Non-null rows after conversion:\", cleaned_data[column].count())\n",
    "    print(\"Null/Ignored rows:\", len(data) - cleaned_data[column].count())\n",
    "    \n",
    "    # Basic statistics for converted column\n",
    "    if cleaned_data[column].count() > 0:\n",
    "        print(\"Basic Statistics:\")\n",
    "        print(cleaned_data[column].describe())\n"
   ]
  },
  {
   "cell_type": "code",
   "execution_count": 34,
   "id": "3767f6f3-c823-4792-97f9-9e66fc486d18",
   "metadata": {},
   "outputs": [
    {
     "data": {
      "text/html": [
       "<div>\n",
       "<style scoped>\n",
       "    .dataframe tbody tr th:only-of-type {\n",
       "        vertical-align: middle;\n",
       "    }\n",
       "\n",
       "    .dataframe tbody tr th {\n",
       "        vertical-align: top;\n",
       "    }\n",
       "\n",
       "    .dataframe thead th {\n",
       "        text-align: right;\n",
       "    }\n",
       "</style>\n",
       "<table border=\"1\" class=\"dataframe\">\n",
       "  <thead>\n",
       "    <tr style=\"text-align: right;\">\n",
       "      <th></th>\n",
       "      <th>Item</th>\n",
       "      <th>Quantity</th>\n",
       "      <th>Price Per Unit</th>\n",
       "      <th>Total Spent</th>\n",
       "      <th>Payment Method</th>\n",
       "      <th>Location</th>\n",
       "      <th>Transaction Date</th>\n",
       "    </tr>\n",
       "  </thead>\n",
       "  <tbody>\n",
       "    <tr>\n",
       "      <th>0</th>\n",
       "      <td>Coffee</td>\n",
       "      <td>2.0</td>\n",
       "      <td>2.0</td>\n",
       "      <td>4.0</td>\n",
       "      <td>Credit Card</td>\n",
       "      <td>Takeaway</td>\n",
       "      <td>08-09-2023</td>\n",
       "    </tr>\n",
       "    <tr>\n",
       "      <th>1</th>\n",
       "      <td>Cake</td>\n",
       "      <td>4.0</td>\n",
       "      <td>3.0</td>\n",
       "      <td>12.0</td>\n",
       "      <td>Cash</td>\n",
       "      <td>In-store</td>\n",
       "      <td>16-05-2023</td>\n",
       "    </tr>\n",
       "    <tr>\n",
       "      <th>2</th>\n",
       "      <td>Cookie</td>\n",
       "      <td>4.0</td>\n",
       "      <td>1.0</td>\n",
       "      <td>NaN</td>\n",
       "      <td>Credit Card</td>\n",
       "      <td>In-store</td>\n",
       "      <td>19-07-2023</td>\n",
       "    </tr>\n",
       "    <tr>\n",
       "      <th>3</th>\n",
       "      <td>Salad</td>\n",
       "      <td>2.0</td>\n",
       "      <td>5.0</td>\n",
       "      <td>10.0</td>\n",
       "      <td>UNKNOWN</td>\n",
       "      <td>UNKNOWN</td>\n",
       "      <td>27-04-2023</td>\n",
       "    </tr>\n",
       "    <tr>\n",
       "      <th>4</th>\n",
       "      <td>Coffee</td>\n",
       "      <td>2.0</td>\n",
       "      <td>2.0</td>\n",
       "      <td>4.0</td>\n",
       "      <td>Digital Wallet</td>\n",
       "      <td>In-store</td>\n",
       "      <td>11-06-2023</td>\n",
       "    </tr>\n",
       "    <tr>\n",
       "      <th>...</th>\n",
       "      <td>...</td>\n",
       "      <td>...</td>\n",
       "      <td>...</td>\n",
       "      <td>...</td>\n",
       "      <td>...</td>\n",
       "      <td>...</td>\n",
       "      <td>...</td>\n",
       "    </tr>\n",
       "    <tr>\n",
       "      <th>9993</th>\n",
       "      <td>Smoothie</td>\n",
       "      <td>2.0</td>\n",
       "      <td>4.0</td>\n",
       "      <td>NaN</td>\n",
       "      <td>Cash</td>\n",
       "      <td>NaN</td>\n",
       "      <td>20-10-2023</td>\n",
       "    </tr>\n",
       "    <tr>\n",
       "      <th>9995</th>\n",
       "      <td>Coffee</td>\n",
       "      <td>2.0</td>\n",
       "      <td>2.0</td>\n",
       "      <td>4.0</td>\n",
       "      <td>NaN</td>\n",
       "      <td>UNKNOWN</td>\n",
       "      <td>30-08-2023</td>\n",
       "    </tr>\n",
       "    <tr>\n",
       "      <th>9997</th>\n",
       "      <td>Coffee</td>\n",
       "      <td>4.0</td>\n",
       "      <td>2.0</td>\n",
       "      <td>8.0</td>\n",
       "      <td>Digital Wallet</td>\n",
       "      <td>NaN</td>\n",
       "      <td>02-03-2023</td>\n",
       "    </tr>\n",
       "    <tr>\n",
       "      <th>9998</th>\n",
       "      <td>Cookie</td>\n",
       "      <td>3.0</td>\n",
       "      <td>NaN</td>\n",
       "      <td>3.0</td>\n",
       "      <td>Digital Wallet</td>\n",
       "      <td>NaN</td>\n",
       "      <td>02-12-2023</td>\n",
       "    </tr>\n",
       "    <tr>\n",
       "      <th>9999</th>\n",
       "      <td>Sandwich</td>\n",
       "      <td>3.0</td>\n",
       "      <td>4.0</td>\n",
       "      <td>12.0</td>\n",
       "      <td>Cash</td>\n",
       "      <td>In-store</td>\n",
       "      <td>07-11-2023</td>\n",
       "    </tr>\n",
       "  </tbody>\n",
       "</table>\n",
       "<p>9031 rows × 7 columns</p>\n",
       "</div>"
      ],
      "text/plain": [
       "          Item  Quantity  Price Per Unit  Total Spent  Payment Method  \\\n",
       "0       Coffee       2.0             2.0          4.0     Credit Card   \n",
       "1         Cake       4.0             3.0         12.0            Cash   \n",
       "2       Cookie       4.0             1.0          NaN     Credit Card   \n",
       "3        Salad       2.0             5.0         10.0         UNKNOWN   \n",
       "4       Coffee       2.0             2.0          4.0  Digital Wallet   \n",
       "...        ...       ...             ...          ...             ...   \n",
       "9993  Smoothie       2.0             4.0          NaN            Cash   \n",
       "9995    Coffee       2.0             2.0          4.0             NaN   \n",
       "9997    Coffee       4.0             2.0          8.0  Digital Wallet   \n",
       "9998    Cookie       3.0             NaN          3.0  Digital Wallet   \n",
       "9999  Sandwich       3.0             4.0         12.0            Cash   \n",
       "\n",
       "      Location Transaction Date  \n",
       "0     Takeaway       08-09-2023  \n",
       "1     In-store       16-05-2023  \n",
       "2     In-store       19-07-2023  \n",
       "3      UNKNOWN       27-04-2023  \n",
       "4     In-store       11-06-2023  \n",
       "...        ...              ...  \n",
       "9993       NaN       20-10-2023  \n",
       "9995   UNKNOWN       30-08-2023  \n",
       "9997       NaN       02-03-2023  \n",
       "9998       NaN       02-12-2023  \n",
       "9999  In-store       07-11-2023  \n",
       "\n",
       "[9031 rows x 7 columns]"
      ]
     },
     "execution_count": 34,
     "metadata": {},
     "output_type": "execute_result"
    }
   ],
   "source": [
    "cleaned_data"
   ]
  },
  {
   "cell_type": "code",
   "execution_count": 35,
   "id": "e7cd4888-597d-499b-bf94-b5fce1c706ac",
   "metadata": {},
   "outputs": [
    {
     "data": {
      "text/plain": [
       "Quantity\n",
       "False    8611\n",
       "True      420\n",
       "Name: count, dtype: int64"
      ]
     },
     "execution_count": 35,
     "metadata": {},
     "output_type": "execute_result"
    }
   ],
   "source": [
    "pd.isna(cleaned_data['Quantity']).value_counts()"
   ]
  },
  {
   "cell_type": "code",
   "execution_count": 36,
   "id": "aac19049-0d5f-4f38-9ad5-249b496fb5ae",
   "metadata": {},
   "outputs": [
    {
     "data": {
      "text/plain": [
       "Total Spent\n",
       "False    8579\n",
       "True      452\n",
       "Name: count, dtype: int64"
      ]
     },
     "execution_count": 36,
     "metadata": {},
     "output_type": "execute_result"
    }
   ],
   "source": [
    "pd.isna(cleaned_data['Total Spent']).value_counts()"
   ]
  },
  {
   "cell_type": "code",
   "execution_count": 37,
   "id": "eae1675d-6710-49a8-b45c-9cc350396ebc",
   "metadata": {},
   "outputs": [
    {
     "data": {
      "text/plain": [
       "Price Per Unit\n",
       "False    8552\n",
       "True      479\n",
       "Name: count, dtype: int64"
      ]
     },
     "execution_count": 37,
     "metadata": {},
     "output_type": "execute_result"
    }
   ],
   "source": [
    "pd.isna(cleaned_data['Price Per Unit']).value_counts()"
   ]
  },
  {
   "cell_type": "code",
   "execution_count": 38,
   "id": "46d627e7-d733-497d-8ad3-35444c345adb",
   "metadata": {},
   "outputs": [
    {
     "name": "stdout",
     "output_type": "stream",
     "text": [
      "Original DataFrame Shape: (9031, 7)\n",
      "Processed DataFrame Shape: (8979, 7)\n",
      "\n",
      "Rows Removed: 52\n",
      "\n",
      "Summary Statistics:\n",
      "\n",
      "Quantity:\n",
      "count    8979.000000\n",
      "mean        3.028622\n",
      "std         1.423698\n",
      "min         1.000000\n",
      "25%         2.000000\n",
      "50%         3.000000\n",
      "75%         4.000000\n",
      "max         5.000000\n",
      "Name: Quantity, dtype: float64\n",
      "\n",
      "Price Per Unit:\n",
      "count    8979.000000\n",
      "mean        2.950050\n",
      "std         1.279186\n",
      "min         1.000000\n",
      "25%         2.000000\n",
      "50%         3.000000\n",
      "75%         4.000000\n",
      "max         5.000000\n",
      "Name: Price Per Unit, dtype: float64\n",
      "\n",
      "Total Spent:\n",
      "count    8979.000000\n",
      "mean        8.948324\n",
      "std         6.015953\n",
      "min         1.000000\n",
      "25%         4.000000\n",
      "50%         8.000000\n",
      "75%        12.000000\n",
      "max        25.000000\n",
      "Name: Total Spent, dtype: float64\n"
     ]
    }
   ],
   "source": [
    "def process_sales_data(cleaned_data):\n",
    "    # Create a copy of the dataframe to avoid modifying the original\n",
    "    processed_df = cleaned_data.copy()\n",
    "    \n",
    "    # Calculation 1: Total Spent = Quantity * Price Per Unit\n",
    "    processed_df['Calculated Total Spent'] = np.where(\n",
    "        (processed_df['Quantity'].notna()) & (processed_df['Price Per Unit'].notna()),\n",
    "        processed_df['Quantity'] * processed_df['Price Per Unit'],\n",
    "        processed_df['Total Spent']\n",
    "    )\n",
    "    \n",
    "    # Calculation 2: Quantity = Total Spent / Price Per Unit\n",
    "    processed_df['Calculated Quantity'] = np.where(\n",
    "        (processed_df['Total Spent'].notna()) & (processed_df['Price Per Unit'].notna()),\n",
    "        processed_df['Total Spent'] / processed_df['Price Per Unit'],\n",
    "        processed_df['Quantity']\n",
    "    )\n",
    "    \n",
    "    # Calculation 3: Price Per Unit = Total Spent / Quantity\n",
    "    processed_df['Calculated Price Per Unit'] = np.where(\n",
    "        (processed_df['Total Spent'].notna()) & (processed_df['Quantity'].notna()),\n",
    "        processed_df['Total Spent'] / processed_df['Quantity'],\n",
    "        processed_df['Price Per Unit']\n",
    "    )\n",
    "    \n",
    "    # Update original columns with calculated values\n",
    "    processed_df['Total Spent'] = processed_df['Calculated Total Spent']\n",
    "    processed_df['Quantity'] = processed_df['Calculated Quantity']\n",
    "    processed_df['Price Per Unit'] = processed_df['Calculated Price Per Unit']\n",
    "    \n",
    "    # Drop rows with NaN in two or more columns\n",
    "    def count_nans(row):\n",
    "        return row.isna().sum()\n",
    "    \n",
    "    # Drop rows with 2 or more NaN values in Quantity, Price Per Unit, and Total Spent\n",
    "    columns_to_check = ['Quantity', 'Price Per Unit', 'Total Spent']\n",
    "    processed_df = processed_df[processed_df[columns_to_check].apply(count_nans, axis=1) < 2]\n",
    "    \n",
    "    # Remove temporary calculation columns\n",
    "    processed_df = processed_df.drop(columns=['Calculated Total Spent', 'Calculated Quantity', 'Calculated Price Per Unit'])\n",
    "    \n",
    "    return processed_df\n",
    "\n",
    "# Read the CSV file\n",
    "# df = pd.read_csv('dirty_cafe_sales.csv', dtype=str)\n",
    "\n",
    "# Convert columns to numeric, coercing errors to NaN\n",
    "numeric_columns = ['Quantity', 'Price Per Unit', 'Total Spent']\n",
    "# for col in numeric_columns:\n",
    "    # cleaned_data[col] = pd.to_numeric(df[col], errors='coerce')\n",
    "\n",
    "# Process the data\n",
    "processed_cleaned_data = process_sales_data(cleaned_data)\n",
    "\n",
    "# Print some information about the processing\n",
    "print(\"Original DataFrame Shape:\", cleaned_data.shape)\n",
    "print(\"Processed DataFrame Shape:\", processed_cleaned_data.shape)\n",
    "print(\"\\nRows Removed:\", cleaned_data.shape[0] - processed_cleaned_data.shape[0])\n",
    "\n",
    "# Print summary statistics\n",
    "print(\"\\nSummary Statistics:\")\n",
    "for col in numeric_columns:\n",
    "    print(f\"\\n{col}:\")\n",
    "    print(processed_cleaned_data[col].describe())"
   ]
  },
  {
   "cell_type": "code",
   "execution_count": 39,
   "id": "72f3a6fb-57b1-4807-aeb6-b12e6fd934b6",
   "metadata": {},
   "outputs": [
    {
     "data": {
      "text/html": [
       "<div>\n",
       "<style scoped>\n",
       "    .dataframe tbody tr th:only-of-type {\n",
       "        vertical-align: middle;\n",
       "    }\n",
       "\n",
       "    .dataframe tbody tr th {\n",
       "        vertical-align: top;\n",
       "    }\n",
       "\n",
       "    .dataframe thead th {\n",
       "        text-align: right;\n",
       "    }\n",
       "</style>\n",
       "<table border=\"1\" class=\"dataframe\">\n",
       "  <thead>\n",
       "    <tr style=\"text-align: right;\">\n",
       "      <th></th>\n",
       "      <th>Item</th>\n",
       "      <th>Quantity</th>\n",
       "      <th>Price Per Unit</th>\n",
       "      <th>Total Spent</th>\n",
       "      <th>Payment Method</th>\n",
       "      <th>Location</th>\n",
       "      <th>Transaction Date</th>\n",
       "    </tr>\n",
       "  </thead>\n",
       "  <tbody>\n",
       "    <tr>\n",
       "      <th>0</th>\n",
       "      <td>Coffee</td>\n",
       "      <td>2.0</td>\n",
       "      <td>2.0</td>\n",
       "      <td>4.0</td>\n",
       "      <td>Credit Card</td>\n",
       "      <td>Takeaway</td>\n",
       "      <td>08-09-2023</td>\n",
       "    </tr>\n",
       "    <tr>\n",
       "      <th>1</th>\n",
       "      <td>Cake</td>\n",
       "      <td>4.0</td>\n",
       "      <td>3.0</td>\n",
       "      <td>12.0</td>\n",
       "      <td>Cash</td>\n",
       "      <td>In-store</td>\n",
       "      <td>16-05-2023</td>\n",
       "    </tr>\n",
       "    <tr>\n",
       "      <th>2</th>\n",
       "      <td>Cookie</td>\n",
       "      <td>4.0</td>\n",
       "      <td>1.0</td>\n",
       "      <td>4.0</td>\n",
       "      <td>Credit Card</td>\n",
       "      <td>In-store</td>\n",
       "      <td>19-07-2023</td>\n",
       "    </tr>\n",
       "    <tr>\n",
       "      <th>3</th>\n",
       "      <td>Salad</td>\n",
       "      <td>2.0</td>\n",
       "      <td>5.0</td>\n",
       "      <td>10.0</td>\n",
       "      <td>UNKNOWN</td>\n",
       "      <td>UNKNOWN</td>\n",
       "      <td>27-04-2023</td>\n",
       "    </tr>\n",
       "    <tr>\n",
       "      <th>4</th>\n",
       "      <td>Coffee</td>\n",
       "      <td>2.0</td>\n",
       "      <td>2.0</td>\n",
       "      <td>4.0</td>\n",
       "      <td>Digital Wallet</td>\n",
       "      <td>In-store</td>\n",
       "      <td>11-06-2023</td>\n",
       "    </tr>\n",
       "    <tr>\n",
       "      <th>...</th>\n",
       "      <td>...</td>\n",
       "      <td>...</td>\n",
       "      <td>...</td>\n",
       "      <td>...</td>\n",
       "      <td>...</td>\n",
       "      <td>...</td>\n",
       "      <td>...</td>\n",
       "    </tr>\n",
       "    <tr>\n",
       "      <th>9993</th>\n",
       "      <td>Smoothie</td>\n",
       "      <td>2.0</td>\n",
       "      <td>4.0</td>\n",
       "      <td>8.0</td>\n",
       "      <td>Cash</td>\n",
       "      <td>NaN</td>\n",
       "      <td>20-10-2023</td>\n",
       "    </tr>\n",
       "    <tr>\n",
       "      <th>9995</th>\n",
       "      <td>Coffee</td>\n",
       "      <td>2.0</td>\n",
       "      <td>2.0</td>\n",
       "      <td>4.0</td>\n",
       "      <td>NaN</td>\n",
       "      <td>UNKNOWN</td>\n",
       "      <td>30-08-2023</td>\n",
       "    </tr>\n",
       "    <tr>\n",
       "      <th>9997</th>\n",
       "      <td>Coffee</td>\n",
       "      <td>4.0</td>\n",
       "      <td>2.0</td>\n",
       "      <td>8.0</td>\n",
       "      <td>Digital Wallet</td>\n",
       "      <td>NaN</td>\n",
       "      <td>02-03-2023</td>\n",
       "    </tr>\n",
       "    <tr>\n",
       "      <th>9998</th>\n",
       "      <td>Cookie</td>\n",
       "      <td>3.0</td>\n",
       "      <td>1.0</td>\n",
       "      <td>3.0</td>\n",
       "      <td>Digital Wallet</td>\n",
       "      <td>NaN</td>\n",
       "      <td>02-12-2023</td>\n",
       "    </tr>\n",
       "    <tr>\n",
       "      <th>9999</th>\n",
       "      <td>Sandwich</td>\n",
       "      <td>3.0</td>\n",
       "      <td>4.0</td>\n",
       "      <td>12.0</td>\n",
       "      <td>Cash</td>\n",
       "      <td>In-store</td>\n",
       "      <td>07-11-2023</td>\n",
       "    </tr>\n",
       "  </tbody>\n",
       "</table>\n",
       "<p>8979 rows × 7 columns</p>\n",
       "</div>"
      ],
      "text/plain": [
       "          Item  Quantity  Price Per Unit  Total Spent  Payment Method  \\\n",
       "0       Coffee       2.0             2.0          4.0     Credit Card   \n",
       "1         Cake       4.0             3.0         12.0            Cash   \n",
       "2       Cookie       4.0             1.0          4.0     Credit Card   \n",
       "3        Salad       2.0             5.0         10.0         UNKNOWN   \n",
       "4       Coffee       2.0             2.0          4.0  Digital Wallet   \n",
       "...        ...       ...             ...          ...             ...   \n",
       "9993  Smoothie       2.0             4.0          8.0            Cash   \n",
       "9995    Coffee       2.0             2.0          4.0             NaN   \n",
       "9997    Coffee       4.0             2.0          8.0  Digital Wallet   \n",
       "9998    Cookie       3.0             1.0          3.0  Digital Wallet   \n",
       "9999  Sandwich       3.0             4.0         12.0            Cash   \n",
       "\n",
       "      Location Transaction Date  \n",
       "0     Takeaway       08-09-2023  \n",
       "1     In-store       16-05-2023  \n",
       "2     In-store       19-07-2023  \n",
       "3      UNKNOWN       27-04-2023  \n",
       "4     In-store       11-06-2023  \n",
       "...        ...              ...  \n",
       "9993       NaN       20-10-2023  \n",
       "9995   UNKNOWN       30-08-2023  \n",
       "9997       NaN       02-03-2023  \n",
       "9998       NaN       02-12-2023  \n",
       "9999  In-store       07-11-2023  \n",
       "\n",
       "[8979 rows x 7 columns]"
      ]
     },
     "execution_count": 39,
     "metadata": {},
     "output_type": "execute_result"
    }
   ],
   "source": [
    "processed_cleaned_data"
   ]
  },
  {
   "cell_type": "code",
   "execution_count": 40,
   "id": "e970acc3-0a00-4bb9-8f18-6e7285a1e545",
   "metadata": {},
   "outputs": [
    {
     "name": "stdout",
     "output_type": "stream",
     "text": [
      "Quantity\n",
      "False    8979\n",
      "Name: count, dtype: int64\n",
      "Price Per Unit\n",
      "False    8979\n",
      "Name: count, dtype: int64\n",
      "Total Spent\n",
      "False    8979\n",
      "Name: count, dtype: int64\n"
     ]
    }
   ],
   "source": [
    "print(pd.isna(processed_cleaned_data['Quantity']).value_counts())\n",
    "print(pd.isna(processed_cleaned_data['Price Per Unit']).value_counts())\n",
    "print(pd.isna(processed_cleaned_data['Total Spent']).value_counts())"
   ]
  },
  {
   "cell_type": "code",
   "execution_count": 41,
   "id": "eaaf42eb-4650-4aa4-a137-09a529448a6b",
   "metadata": {},
   "outputs": [],
   "source": [
    "# Optional: Save processed data\n",
    "processed_cleaned_data.to_csv('processed_numeric_rows.csv', index=False)"
   ]
  },
  {
   "cell_type": "code",
   "execution_count": 42,
   "id": "21630e08-befc-4ae7-acef-f4f4a926e0ec",
   "metadata": {},
   "outputs": [
    {
     "name": "stdout",
     "output_type": "stream",
     "text": [
      "\n",
      "Verification of Total Spent = Quantity * Price Per Unit:\n",
      "Percentage of rows matching: 100.0 %\n"
     ]
    }
   ],
   "source": [
    "# Optional: Verification of calculations\n",
    "def verify_calculations(df):\n",
    "    \"\"\"\n",
    "    Verify the calculations to ensure consistency\n",
    "    \"\"\"\n",
    "    # Check Total Spent calculation\n",
    "    total_spent_check = np.isclose(\n",
    "        df['Quantity'] * df['Price Per Unit'], \n",
    "        df['Total Spent'], \n",
    "        rtol=0.01, \n",
    "        atol=0.01\n",
    "    )\n",
    "    print(\"\\nVerification of Total Spent = Quantity * Price Per Unit:\")\n",
    "    print(\"Percentage of rows matching:\", total_spent_check.mean() * 100, \"%\")\n",
    "    \n",
    "    return total_spent_check\n",
    "\n",
    "# Run verification\n",
    "verification_results = verify_calculations(processed_cleaned_data)"
   ]
  },
  {
   "cell_type": "code",
   "execution_count": 43,
   "id": "5c3f5b85-0eab-4882-8d28-48b32a0d999d",
   "metadata": {},
   "outputs": [],
   "source": [
    "processed_data = pd.read_csv('processed_numeric_rows.csv')"
   ]
  },
  {
   "cell_type": "code",
   "execution_count": 44,
   "id": "3d6ca31c-326b-4ff2-961c-98e8120cc5a3",
   "metadata": {},
   "outputs": [
    {
     "data": {
      "text/html": [
       "<div>\n",
       "<style scoped>\n",
       "    .dataframe tbody tr th:only-of-type {\n",
       "        vertical-align: middle;\n",
       "    }\n",
       "\n",
       "    .dataframe tbody tr th {\n",
       "        vertical-align: top;\n",
       "    }\n",
       "\n",
       "    .dataframe thead th {\n",
       "        text-align: right;\n",
       "    }\n",
       "</style>\n",
       "<table border=\"1\" class=\"dataframe\">\n",
       "  <thead>\n",
       "    <tr style=\"text-align: right;\">\n",
       "      <th></th>\n",
       "      <th>Item</th>\n",
       "      <th>Quantity</th>\n",
       "      <th>Price Per Unit</th>\n",
       "      <th>Total Spent</th>\n",
       "      <th>Payment Method</th>\n",
       "      <th>Location</th>\n",
       "      <th>Transaction Date</th>\n",
       "    </tr>\n",
       "  </thead>\n",
       "  <tbody>\n",
       "    <tr>\n",
       "      <th>0</th>\n",
       "      <td>Coffee</td>\n",
       "      <td>2.0</td>\n",
       "      <td>2.0</td>\n",
       "      <td>4.0</td>\n",
       "      <td>Credit Card</td>\n",
       "      <td>Takeaway</td>\n",
       "      <td>08-09-2023</td>\n",
       "    </tr>\n",
       "    <tr>\n",
       "      <th>1</th>\n",
       "      <td>Cake</td>\n",
       "      <td>4.0</td>\n",
       "      <td>3.0</td>\n",
       "      <td>12.0</td>\n",
       "      <td>Cash</td>\n",
       "      <td>In-store</td>\n",
       "      <td>16-05-2023</td>\n",
       "    </tr>\n",
       "    <tr>\n",
       "      <th>2</th>\n",
       "      <td>Cookie</td>\n",
       "      <td>4.0</td>\n",
       "      <td>1.0</td>\n",
       "      <td>4.0</td>\n",
       "      <td>Credit Card</td>\n",
       "      <td>In-store</td>\n",
       "      <td>19-07-2023</td>\n",
       "    </tr>\n",
       "    <tr>\n",
       "      <th>3</th>\n",
       "      <td>Salad</td>\n",
       "      <td>2.0</td>\n",
       "      <td>5.0</td>\n",
       "      <td>10.0</td>\n",
       "      <td>UNKNOWN</td>\n",
       "      <td>UNKNOWN</td>\n",
       "      <td>27-04-2023</td>\n",
       "    </tr>\n",
       "    <tr>\n",
       "      <th>4</th>\n",
       "      <td>Coffee</td>\n",
       "      <td>2.0</td>\n",
       "      <td>2.0</td>\n",
       "      <td>4.0</td>\n",
       "      <td>Digital Wallet</td>\n",
       "      <td>In-store</td>\n",
       "      <td>11-06-2023</td>\n",
       "    </tr>\n",
       "  </tbody>\n",
       "</table>\n",
       "</div>"
      ],
      "text/plain": [
       "     Item  Quantity  Price Per Unit  Total Spent  Payment Method  Location  \\\n",
       "0  Coffee       2.0             2.0          4.0     Credit Card  Takeaway   \n",
       "1    Cake       4.0             3.0         12.0            Cash  In-store   \n",
       "2  Cookie       4.0             1.0          4.0     Credit Card  In-store   \n",
       "3   Salad       2.0             5.0         10.0         UNKNOWN   UNKNOWN   \n",
       "4  Coffee       2.0             2.0          4.0  Digital Wallet  In-store   \n",
       "\n",
       "  Transaction Date  \n",
       "0       08-09-2023  \n",
       "1       16-05-2023  \n",
       "2       19-07-2023  \n",
       "3       27-04-2023  \n",
       "4       11-06-2023  "
      ]
     },
     "execution_count": 44,
     "metadata": {},
     "output_type": "execute_result"
    }
   ],
   "source": [
    "processed_data.head()"
   ]
  },
  {
   "cell_type": "code",
   "execution_count": 45,
   "id": "764da36e-9ffe-4aec-86b3-7a0d653e28db",
   "metadata": {},
   "outputs": [
    {
     "data": {
      "text/plain": [
       "0    Digital Wallet\n",
       "Name: Payment Method, dtype: object"
      ]
     },
     "execution_count": 45,
     "metadata": {},
     "output_type": "execute_result"
    }
   ],
   "source": [
    "processed_data['Payment Method'].mode()"
   ]
  },
  {
   "cell_type": "code",
   "execution_count": 46,
   "id": "65700052-814a-4509-8c00-dc33dc2b6d2a",
   "metadata": {},
   "outputs": [
    {
     "data": {
      "text/plain": [
       "np.int64(6662)"
      ]
     },
     "execution_count": 46,
     "metadata": {},
     "output_type": "execute_result"
    }
   ],
   "source": [
    "processed_data['Payment Method'].value_counts().sum()"
   ]
  },
  {
   "cell_type": "code",
   "execution_count": 47,
   "id": "284c3f3e-c22b-4f88-96bb-a62519f78104",
   "metadata": {},
   "outputs": [
    {
     "data": {
      "text/plain": [
       "8979"
      ]
     },
     "execution_count": 47,
     "metadata": {},
     "output_type": "execute_result"
    }
   ],
   "source": [
    "len(processed_data['Payment Method'])"
   ]
  },
  {
   "cell_type": "code",
   "execution_count": 48,
   "id": "f733cfb4-7a5b-4c35-9962-a8e357ad31ed",
   "metadata": {},
   "outputs": [
    {
     "data": {
      "text/plain": [
       "Payment Method\n",
       "False    6662\n",
       "True     2317\n",
       "Name: count, dtype: int64"
      ]
     },
     "execution_count": 48,
     "metadata": {},
     "output_type": "execute_result"
    }
   ],
   "source": [
    "pd.isna(processed_data['Payment Method']).value_counts()"
   ]
  },
  {
   "cell_type": "code",
   "execution_count": 49,
   "id": "406615a3-ed98-46aa-967e-c25574465287",
   "metadata": {},
   "outputs": [
    {
     "data": {
      "text/plain": [
       "Payment Method\n",
       "Digital Wallet    2055\n",
       "Credit Card       2032\n",
       "Cash              2032\n",
       "ERROR              283\n",
       "UNKNOWN            260\n",
       "Name: count, dtype: int64"
      ]
     },
     "execution_count": 49,
     "metadata": {},
     "output_type": "execute_result"
    }
   ],
   "source": [
    "processed_data['Payment Method'].value_counts()"
   ]
  },
  {
   "cell_type": "code",
   "execution_count": 50,
   "id": "a21c5c09-987c-48aa-8a72-14d8b938f879",
   "metadata": {},
   "outputs": [],
   "source": [
    "mode_value = processed_data['Payment Method'].mode()"
   ]
  },
  {
   "cell_type": "code",
   "execution_count": 51,
   "id": "159a98e5-a60b-4d81-ba41-17c0f234df03",
   "metadata": {},
   "outputs": [],
   "source": [
    "processed_data_copy = processed_data.copy()"
   ]
  },
  {
   "cell_type": "code",
   "execution_count": 52,
   "id": "aa383d71-361a-497e-b40a-38d30ed88bdd",
   "metadata": {},
   "outputs": [
    {
     "data": {
      "text/html": [
       "<div>\n",
       "<style scoped>\n",
       "    .dataframe tbody tr th:only-of-type {\n",
       "        vertical-align: middle;\n",
       "    }\n",
       "\n",
       "    .dataframe tbody tr th {\n",
       "        vertical-align: top;\n",
       "    }\n",
       "\n",
       "    .dataframe thead th {\n",
       "        text-align: right;\n",
       "    }\n",
       "</style>\n",
       "<table border=\"1\" class=\"dataframe\">\n",
       "  <thead>\n",
       "    <tr style=\"text-align: right;\">\n",
       "      <th></th>\n",
       "      <th>Item</th>\n",
       "      <th>Quantity</th>\n",
       "      <th>Price Per Unit</th>\n",
       "      <th>Total Spent</th>\n",
       "      <th>Payment Method</th>\n",
       "      <th>Location</th>\n",
       "      <th>Transaction Date</th>\n",
       "    </tr>\n",
       "  </thead>\n",
       "  <tbody>\n",
       "    <tr>\n",
       "      <th>0</th>\n",
       "      <td>Coffee</td>\n",
       "      <td>2.0</td>\n",
       "      <td>2.0</td>\n",
       "      <td>4.0</td>\n",
       "      <td>Credit Card</td>\n",
       "      <td>Takeaway</td>\n",
       "      <td>08-09-2023</td>\n",
       "    </tr>\n",
       "    <tr>\n",
       "      <th>1</th>\n",
       "      <td>Cake</td>\n",
       "      <td>4.0</td>\n",
       "      <td>3.0</td>\n",
       "      <td>12.0</td>\n",
       "      <td>Cash</td>\n",
       "      <td>In-store</td>\n",
       "      <td>16-05-2023</td>\n",
       "    </tr>\n",
       "    <tr>\n",
       "      <th>2</th>\n",
       "      <td>Cookie</td>\n",
       "      <td>4.0</td>\n",
       "      <td>1.0</td>\n",
       "      <td>4.0</td>\n",
       "      <td>Credit Card</td>\n",
       "      <td>In-store</td>\n",
       "      <td>19-07-2023</td>\n",
       "    </tr>\n",
       "    <tr>\n",
       "      <th>3</th>\n",
       "      <td>Salad</td>\n",
       "      <td>2.0</td>\n",
       "      <td>5.0</td>\n",
       "      <td>10.0</td>\n",
       "      <td>UNKNOWN</td>\n",
       "      <td>UNKNOWN</td>\n",
       "      <td>27-04-2023</td>\n",
       "    </tr>\n",
       "    <tr>\n",
       "      <th>4</th>\n",
       "      <td>Coffee</td>\n",
       "      <td>2.0</td>\n",
       "      <td>2.0</td>\n",
       "      <td>4.0</td>\n",
       "      <td>Digital Wallet</td>\n",
       "      <td>In-store</td>\n",
       "      <td>11-06-2023</td>\n",
       "    </tr>\n",
       "    <tr>\n",
       "      <th>...</th>\n",
       "      <td>...</td>\n",
       "      <td>...</td>\n",
       "      <td>...</td>\n",
       "      <td>...</td>\n",
       "      <td>...</td>\n",
       "      <td>...</td>\n",
       "      <td>...</td>\n",
       "    </tr>\n",
       "    <tr>\n",
       "      <th>8974</th>\n",
       "      <td>Smoothie</td>\n",
       "      <td>2.0</td>\n",
       "      <td>4.0</td>\n",
       "      <td>8.0</td>\n",
       "      <td>Cash</td>\n",
       "      <td>NaN</td>\n",
       "      <td>20-10-2023</td>\n",
       "    </tr>\n",
       "    <tr>\n",
       "      <th>8975</th>\n",
       "      <td>Coffee</td>\n",
       "      <td>2.0</td>\n",
       "      <td>2.0</td>\n",
       "      <td>4.0</td>\n",
       "      <td>NaN</td>\n",
       "      <td>UNKNOWN</td>\n",
       "      <td>30-08-2023</td>\n",
       "    </tr>\n",
       "    <tr>\n",
       "      <th>8976</th>\n",
       "      <td>Coffee</td>\n",
       "      <td>4.0</td>\n",
       "      <td>2.0</td>\n",
       "      <td>8.0</td>\n",
       "      <td>Digital Wallet</td>\n",
       "      <td>NaN</td>\n",
       "      <td>02-03-2023</td>\n",
       "    </tr>\n",
       "    <tr>\n",
       "      <th>8977</th>\n",
       "      <td>Cookie</td>\n",
       "      <td>3.0</td>\n",
       "      <td>1.0</td>\n",
       "      <td>3.0</td>\n",
       "      <td>Digital Wallet</td>\n",
       "      <td>NaN</td>\n",
       "      <td>02-12-2023</td>\n",
       "    </tr>\n",
       "    <tr>\n",
       "      <th>8978</th>\n",
       "      <td>Sandwich</td>\n",
       "      <td>3.0</td>\n",
       "      <td>4.0</td>\n",
       "      <td>12.0</td>\n",
       "      <td>Cash</td>\n",
       "      <td>In-store</td>\n",
       "      <td>07-11-2023</td>\n",
       "    </tr>\n",
       "  </tbody>\n",
       "</table>\n",
       "<p>8979 rows × 7 columns</p>\n",
       "</div>"
      ],
      "text/plain": [
       "          Item  Quantity  Price Per Unit  Total Spent  Payment Method  \\\n",
       "0       Coffee       2.0             2.0          4.0     Credit Card   \n",
       "1         Cake       4.0             3.0         12.0            Cash   \n",
       "2       Cookie       4.0             1.0          4.0     Credit Card   \n",
       "3        Salad       2.0             5.0         10.0         UNKNOWN   \n",
       "4       Coffee       2.0             2.0          4.0  Digital Wallet   \n",
       "...        ...       ...             ...          ...             ...   \n",
       "8974  Smoothie       2.0             4.0          8.0            Cash   \n",
       "8975    Coffee       2.0             2.0          4.0             NaN   \n",
       "8976    Coffee       4.0             2.0          8.0  Digital Wallet   \n",
       "8977    Cookie       3.0             1.0          3.0  Digital Wallet   \n",
       "8978  Sandwich       3.0             4.0         12.0            Cash   \n",
       "\n",
       "      Location Transaction Date  \n",
       "0     Takeaway       08-09-2023  \n",
       "1     In-store       16-05-2023  \n",
       "2     In-store       19-07-2023  \n",
       "3      UNKNOWN       27-04-2023  \n",
       "4     In-store       11-06-2023  \n",
       "...        ...              ...  \n",
       "8974       NaN       20-10-2023  \n",
       "8975   UNKNOWN       30-08-2023  \n",
       "8976       NaN       02-03-2023  \n",
       "8977       NaN       02-12-2023  \n",
       "8978  In-store       07-11-2023  \n",
       "\n",
       "[8979 rows x 7 columns]"
      ]
     },
     "execution_count": 52,
     "metadata": {},
     "output_type": "execute_result"
    }
   ],
   "source": [
    "processed_data_copy"
   ]
  },
  {
   "cell_type": "code",
   "execution_count": 53,
   "id": "d0e1dddd-4200-477c-9db3-01db32d3190c",
   "metadata": {},
   "outputs": [
    {
     "data": {
      "text/plain": [
       "pandas.core.series.Series"
      ]
     },
     "execution_count": 53,
     "metadata": {},
     "output_type": "execute_result"
    }
   ],
   "source": [
    "type(processed_data_copy['Payment Method'])"
   ]
  },
  {
   "cell_type": "code",
   "execution_count": 54,
   "id": "c75dc55d-526b-412c-81b4-2a19491ff103",
   "metadata": {},
   "outputs": [],
   "source": [
    "processed_data_copy['Payment Method'] = processed_data_copy['Payment Method'].astype(str)"
   ]
  },
  {
   "cell_type": "code",
   "execution_count": 55,
   "id": "e5bfc3b9-d622-4f89-a9eb-f088a679ef07",
   "metadata": {},
   "outputs": [
    {
     "data": {
      "text/plain": [
       "dtype('O')"
      ]
     },
     "execution_count": 55,
     "metadata": {},
     "output_type": "execute_result"
    }
   ],
   "source": [
    "processed_data_copy['Payment Method'].dtypes"
   ]
  },
  {
   "cell_type": "code",
   "execution_count": 56,
   "id": "c5529365-8bdf-47d0-a38b-a5d30a924b06",
   "metadata": {},
   "outputs": [
    {
     "data": {
      "text/plain": [
       "0    Digital Wallet\n",
       "Name: Payment Method, dtype: object"
      ]
     },
     "execution_count": 56,
     "metadata": {},
     "output_type": "execute_result"
    }
   ],
   "source": [
    "mode_value"
   ]
  },
  {
   "cell_type": "code",
   "execution_count": 57,
   "id": "ed7aeb6b-a3c8-4962-b2b1-2324b00b7965",
   "metadata": {},
   "outputs": [],
   "source": [
    "# Replace NaN/null values with the mode\n",
    "processed_data_copy['Payment Method'] = processed_data_copy['Payment Method'].fillna(mode_value)"
   ]
  },
  {
   "cell_type": "code",
   "execution_count": 58,
   "id": "012d39b4-2414-4712-b1ea-57b1d80b58e5",
   "metadata": {},
   "outputs": [
    {
     "data": {
      "text/html": [
       "<div>\n",
       "<style scoped>\n",
       "    .dataframe tbody tr th:only-of-type {\n",
       "        vertical-align: middle;\n",
       "    }\n",
       "\n",
       "    .dataframe tbody tr th {\n",
       "        vertical-align: top;\n",
       "    }\n",
       "\n",
       "    .dataframe thead th {\n",
       "        text-align: right;\n",
       "    }\n",
       "</style>\n",
       "<table border=\"1\" class=\"dataframe\">\n",
       "  <thead>\n",
       "    <tr style=\"text-align: right;\">\n",
       "      <th></th>\n",
       "      <th>Item</th>\n",
       "      <th>Quantity</th>\n",
       "      <th>Price Per Unit</th>\n",
       "      <th>Total Spent</th>\n",
       "      <th>Payment Method</th>\n",
       "      <th>Location</th>\n",
       "      <th>Transaction Date</th>\n",
       "    </tr>\n",
       "  </thead>\n",
       "  <tbody>\n",
       "    <tr>\n",
       "      <th>0</th>\n",
       "      <td>Coffee</td>\n",
       "      <td>2.0</td>\n",
       "      <td>2.0</td>\n",
       "      <td>4.0</td>\n",
       "      <td>Credit Card</td>\n",
       "      <td>Takeaway</td>\n",
       "      <td>08-09-2023</td>\n",
       "    </tr>\n",
       "    <tr>\n",
       "      <th>1</th>\n",
       "      <td>Cake</td>\n",
       "      <td>4.0</td>\n",
       "      <td>3.0</td>\n",
       "      <td>12.0</td>\n",
       "      <td>Cash</td>\n",
       "      <td>In-store</td>\n",
       "      <td>16-05-2023</td>\n",
       "    </tr>\n",
       "    <tr>\n",
       "      <th>2</th>\n",
       "      <td>Cookie</td>\n",
       "      <td>4.0</td>\n",
       "      <td>1.0</td>\n",
       "      <td>4.0</td>\n",
       "      <td>Credit Card</td>\n",
       "      <td>In-store</td>\n",
       "      <td>19-07-2023</td>\n",
       "    </tr>\n",
       "    <tr>\n",
       "      <th>3</th>\n",
       "      <td>Salad</td>\n",
       "      <td>2.0</td>\n",
       "      <td>5.0</td>\n",
       "      <td>10.0</td>\n",
       "      <td>UNKNOWN</td>\n",
       "      <td>UNKNOWN</td>\n",
       "      <td>27-04-2023</td>\n",
       "    </tr>\n",
       "    <tr>\n",
       "      <th>4</th>\n",
       "      <td>Coffee</td>\n",
       "      <td>2.0</td>\n",
       "      <td>2.0</td>\n",
       "      <td>4.0</td>\n",
       "      <td>Digital Wallet</td>\n",
       "      <td>In-store</td>\n",
       "      <td>11-06-2023</td>\n",
       "    </tr>\n",
       "    <tr>\n",
       "      <th>...</th>\n",
       "      <td>...</td>\n",
       "      <td>...</td>\n",
       "      <td>...</td>\n",
       "      <td>...</td>\n",
       "      <td>...</td>\n",
       "      <td>...</td>\n",
       "      <td>...</td>\n",
       "    </tr>\n",
       "    <tr>\n",
       "      <th>8974</th>\n",
       "      <td>Smoothie</td>\n",
       "      <td>2.0</td>\n",
       "      <td>4.0</td>\n",
       "      <td>8.0</td>\n",
       "      <td>Cash</td>\n",
       "      <td>NaN</td>\n",
       "      <td>20-10-2023</td>\n",
       "    </tr>\n",
       "    <tr>\n",
       "      <th>8975</th>\n",
       "      <td>Coffee</td>\n",
       "      <td>2.0</td>\n",
       "      <td>2.0</td>\n",
       "      <td>4.0</td>\n",
       "      <td>nan</td>\n",
       "      <td>UNKNOWN</td>\n",
       "      <td>30-08-2023</td>\n",
       "    </tr>\n",
       "    <tr>\n",
       "      <th>8976</th>\n",
       "      <td>Coffee</td>\n",
       "      <td>4.0</td>\n",
       "      <td>2.0</td>\n",
       "      <td>8.0</td>\n",
       "      <td>Digital Wallet</td>\n",
       "      <td>NaN</td>\n",
       "      <td>02-03-2023</td>\n",
       "    </tr>\n",
       "    <tr>\n",
       "      <th>8977</th>\n",
       "      <td>Cookie</td>\n",
       "      <td>3.0</td>\n",
       "      <td>1.0</td>\n",
       "      <td>3.0</td>\n",
       "      <td>Digital Wallet</td>\n",
       "      <td>NaN</td>\n",
       "      <td>02-12-2023</td>\n",
       "    </tr>\n",
       "    <tr>\n",
       "      <th>8978</th>\n",
       "      <td>Sandwich</td>\n",
       "      <td>3.0</td>\n",
       "      <td>4.0</td>\n",
       "      <td>12.0</td>\n",
       "      <td>Cash</td>\n",
       "      <td>In-store</td>\n",
       "      <td>07-11-2023</td>\n",
       "    </tr>\n",
       "  </tbody>\n",
       "</table>\n",
       "<p>8979 rows × 7 columns</p>\n",
       "</div>"
      ],
      "text/plain": [
       "          Item  Quantity  Price Per Unit  Total Spent  Payment Method  \\\n",
       "0       Coffee       2.0             2.0          4.0     Credit Card   \n",
       "1         Cake       4.0             3.0         12.0            Cash   \n",
       "2       Cookie       4.0             1.0          4.0     Credit Card   \n",
       "3        Salad       2.0             5.0         10.0         UNKNOWN   \n",
       "4       Coffee       2.0             2.0          4.0  Digital Wallet   \n",
       "...        ...       ...             ...          ...             ...   \n",
       "8974  Smoothie       2.0             4.0          8.0            Cash   \n",
       "8975    Coffee       2.0             2.0          4.0             nan   \n",
       "8976    Coffee       4.0             2.0          8.0  Digital Wallet   \n",
       "8977    Cookie       3.0             1.0          3.0  Digital Wallet   \n",
       "8978  Sandwich       3.0             4.0         12.0            Cash   \n",
       "\n",
       "      Location Transaction Date  \n",
       "0     Takeaway       08-09-2023  \n",
       "1     In-store       16-05-2023  \n",
       "2     In-store       19-07-2023  \n",
       "3      UNKNOWN       27-04-2023  \n",
       "4     In-store       11-06-2023  \n",
       "...        ...              ...  \n",
       "8974       NaN       20-10-2023  \n",
       "8975   UNKNOWN       30-08-2023  \n",
       "8976       NaN       02-03-2023  \n",
       "8977       NaN       02-12-2023  \n",
       "8978  In-store       07-11-2023  \n",
       "\n",
       "[8979 rows x 7 columns]"
      ]
     },
     "execution_count": 58,
     "metadata": {},
     "output_type": "execute_result"
    }
   ],
   "source": [
    "processed_data_copy"
   ]
  },
  {
   "cell_type": "code",
   "execution_count": 59,
   "id": "ad28dd06-582e-46cc-9e56-61c27a3217fd",
   "metadata": {},
   "outputs": [
    {
     "data": {
      "text/plain": [
       "Payment Method\n",
       "False    8979\n",
       "Name: count, dtype: int64"
      ]
     },
     "execution_count": 59,
     "metadata": {},
     "output_type": "execute_result"
    }
   ],
   "source": [
    "pd.isna(processed_data_copy['Payment Method']).value_counts()"
   ]
  },
  {
   "cell_type": "code",
   "execution_count": 60,
   "id": "65292877-20a4-431c-acb4-72c478bc13e4",
   "metadata": {},
   "outputs": [
    {
     "data": {
      "text/plain": [
       "Payment Method\n",
       "nan               2317\n",
       "Digital Wallet    2055\n",
       "Cash              2032\n",
       "Credit Card       2032\n",
       "ERROR              283\n",
       "UNKNOWN            260\n",
       "Name: count, dtype: int64"
      ]
     },
     "execution_count": 60,
     "metadata": {},
     "output_type": "execute_result"
    }
   ],
   "source": [
    "processed_data_copy['Payment Method'].value_counts()"
   ]
  },
  {
   "cell_type": "code",
   "execution_count": 61,
   "id": "fe2751bf-25d9-4999-8758-a3d9b7db4da5",
   "metadata": {},
   "outputs": [
    {
     "name": "stdout",
     "output_type": "stream",
     "text": [
      "Before cleaning:\n",
      "Payment Method\n",
      "nan               2317\n",
      "Digital Wallet    2055\n",
      "Cash              2032\n",
      "Credit Card       2032\n",
      "ERROR              283\n",
      "UNKNOWN            260\n",
      "Name: count, dtype: int64\n",
      "\n",
      "Mode payment method: nan\n",
      "\n",
      "After cleaning:\n",
      "Payment Method\n",
      "Nan               2860\n",
      "Digital Wallet    2055\n",
      "Cash              2032\n",
      "Credit Card       2032\n",
      "Name: count, dtype: int64\n"
     ]
    }
   ],
   "source": [
    "# View the distribution of payment methods\n",
    "payment_counts = processed_data_copy['Payment Method'].value_counts(dropna=False)\n",
    "print(\"Before cleaning:\")\n",
    "print(payment_counts)\n",
    "\n",
    "# Find the mode (most common valid payment method)\n",
    "# Exclude null, UNKNOWN, and ERROR values when calculating the mode\n",
    "valid_payments = processed_data_copy['Payment Method'].copy()\n",
    "valid_payments = valid_payments[~valid_payments.isin([None, 'UNKNOWN', 'ERROR'])]\n",
    "mode_value = valid_payments.mode()[0]  # In this case, should be \"Digital Wallet\"\n",
    "\n",
    "print(f\"\\nMode payment method: {mode_value}\")\n",
    "\n",
    "# Replace NULL, UNKNOWN, and ERROR with the mode value\n",
    "processed_data_copy['Payment Method'] = processed_data_copy['Payment Method'].fillna(mode_value)\n",
    "processed_data_copy['Payment Method'] = processed_data_copy['Payment Method'].replace(['UNKNOWN', 'ERROR'], mode_value)\n",
    "\n",
    "# Ensure consistent capitalization (Title Case)\n",
    "processed_data_copy['Payment Method'] = processed_data_copy['Payment Method'].str.title()\n",
    "\n",
    "# View the distribution after cleaning\n",
    "print(\"\\nAfter cleaning:\")\n",
    "print(processed_data_copy['Payment Method'].value_counts())\n",
    "\n",
    "# Save the cleaned data\n",
    "processed_data_copy.to_csv('processed_categorical_rows.csv', index=False)"
   ]
  },
  {
   "cell_type": "code",
   "execution_count": 62,
   "id": "04e9d7a6-037e-485a-ae57-961d02c173fb",
   "metadata": {},
   "outputs": [],
   "source": [
    "data = pd.read_csv('processed_categorical_rows.csv')"
   ]
  },
  {
   "cell_type": "code",
   "execution_count": 63,
   "id": "4abf61e0-ef2d-4040-a2fb-607b8b1e2808",
   "metadata": {},
   "outputs": [
    {
     "data": {
      "text/html": [
       "<div>\n",
       "<style scoped>\n",
       "    .dataframe tbody tr th:only-of-type {\n",
       "        vertical-align: middle;\n",
       "    }\n",
       "\n",
       "    .dataframe tbody tr th {\n",
       "        vertical-align: top;\n",
       "    }\n",
       "\n",
       "    .dataframe thead th {\n",
       "        text-align: right;\n",
       "    }\n",
       "</style>\n",
       "<table border=\"1\" class=\"dataframe\">\n",
       "  <thead>\n",
       "    <tr style=\"text-align: right;\">\n",
       "      <th></th>\n",
       "      <th>Item</th>\n",
       "      <th>Quantity</th>\n",
       "      <th>Price Per Unit</th>\n",
       "      <th>Total Spent</th>\n",
       "      <th>Payment Method</th>\n",
       "      <th>Location</th>\n",
       "      <th>Transaction Date</th>\n",
       "    </tr>\n",
       "  </thead>\n",
       "  <tbody>\n",
       "    <tr>\n",
       "      <th>0</th>\n",
       "      <td>Coffee</td>\n",
       "      <td>2.0</td>\n",
       "      <td>2.0</td>\n",
       "      <td>4.0</td>\n",
       "      <td>Credit Card</td>\n",
       "      <td>Takeaway</td>\n",
       "      <td>08-09-2023</td>\n",
       "    </tr>\n",
       "    <tr>\n",
       "      <th>1</th>\n",
       "      <td>Cake</td>\n",
       "      <td>4.0</td>\n",
       "      <td>3.0</td>\n",
       "      <td>12.0</td>\n",
       "      <td>Cash</td>\n",
       "      <td>In-store</td>\n",
       "      <td>16-05-2023</td>\n",
       "    </tr>\n",
       "    <tr>\n",
       "      <th>2</th>\n",
       "      <td>Cookie</td>\n",
       "      <td>4.0</td>\n",
       "      <td>1.0</td>\n",
       "      <td>4.0</td>\n",
       "      <td>Credit Card</td>\n",
       "      <td>In-store</td>\n",
       "      <td>19-07-2023</td>\n",
       "    </tr>\n",
       "    <tr>\n",
       "      <th>3</th>\n",
       "      <td>Salad</td>\n",
       "      <td>2.0</td>\n",
       "      <td>5.0</td>\n",
       "      <td>10.0</td>\n",
       "      <td>Nan</td>\n",
       "      <td>UNKNOWN</td>\n",
       "      <td>27-04-2023</td>\n",
       "    </tr>\n",
       "    <tr>\n",
       "      <th>4</th>\n",
       "      <td>Coffee</td>\n",
       "      <td>2.0</td>\n",
       "      <td>2.0</td>\n",
       "      <td>4.0</td>\n",
       "      <td>Digital Wallet</td>\n",
       "      <td>In-store</td>\n",
       "      <td>11-06-2023</td>\n",
       "    </tr>\n",
       "  </tbody>\n",
       "</table>\n",
       "</div>"
      ],
      "text/plain": [
       "     Item  Quantity  Price Per Unit  Total Spent  Payment Method  Location  \\\n",
       "0  Coffee       2.0             2.0          4.0     Credit Card  Takeaway   \n",
       "1    Cake       4.0             3.0         12.0            Cash  In-store   \n",
       "2  Cookie       4.0             1.0          4.0     Credit Card  In-store   \n",
       "3   Salad       2.0             5.0         10.0             Nan   UNKNOWN   \n",
       "4  Coffee       2.0             2.0          4.0  Digital Wallet  In-store   \n",
       "\n",
       "  Transaction Date  \n",
       "0       08-09-2023  \n",
       "1       16-05-2023  \n",
       "2       19-07-2023  \n",
       "3       27-04-2023  \n",
       "4       11-06-2023  "
      ]
     },
     "execution_count": 63,
     "metadata": {},
     "output_type": "execute_result"
    }
   ],
   "source": [
    "data.head()"
   ]
  },
  {
   "cell_type": "code",
   "execution_count": 64,
   "id": "1e35ec50-786a-4e27-bd23-513332f6e930",
   "metadata": {},
   "outputs": [
    {
     "data": {
      "text/plain": [
       "Payment Method\n",
       "Nan               2860\n",
       "Digital Wallet    2055\n",
       "Cash              2032\n",
       "Credit Card       2032\n",
       "Name: count, dtype: int64"
      ]
     },
     "execution_count": 64,
     "metadata": {},
     "output_type": "execute_result"
    }
   ],
   "source": [
    "data['Payment Method'].value_counts()"
   ]
  },
  {
   "cell_type": "code",
   "execution_count": 65,
   "id": "688f4f74-155c-45c4-be95-ea04a38ec19e",
   "metadata": {},
   "outputs": [
    {
     "name": "stdout",
     "output_type": "stream",
     "text": [
      "Payment Method\n",
      "Digital Wallet    4915\n",
      "Credit Card       2032\n",
      "Cash              2032\n",
      "Name: count, dtype: int64\n"
     ]
    }
   ],
   "source": [
    "# Identify the mode value\n",
    "mode_value = \"Digital Wallet\"  # We already know this from the value_counts() output\n",
    "\n",
    "# Replace Nan values\n",
    "data['Payment Method'] = data['Payment Method'].replace('Nan', mode_value)\n",
    "\n",
    "# If there are still any NaN values (pandas missing values), fill those too\n",
    "data['Payment Method'] = data['Payment Method'].fillna(mode_value)\n",
    "\n",
    "# Standardize case (optional)\n",
    "data['Payment Method'] = data['Payment Method'].str.title()\n",
    "\n",
    "# Check the result\n",
    "print(data['Payment Method'].value_counts())"
   ]
  },
  {
   "cell_type": "code",
   "execution_count": 66,
   "id": "c475f25c-1099-48cb-8624-976e1c0f5f76",
   "metadata": {},
   "outputs": [],
   "source": [
    "data.to_csv('processed_categorical_rows.csv', index=False)"
   ]
  },
  {
   "cell_type": "markdown",
   "id": "2ab237e0-48d6-4c06-8ced-f510f532634c",
   "metadata": {},
   "source": [
    "## Location Column"
   ]
  },
  {
   "cell_type": "code",
   "execution_count": 67,
   "id": "6f3cea8e-8b53-4b2e-a2b2-acbeb8f9f774",
   "metadata": {},
   "outputs": [],
   "source": [
    "data = pd.read_csv('processed_categorical_rows.csv')"
   ]
  },
  {
   "cell_type": "code",
   "execution_count": 68,
   "id": "69a08385-7f3d-4e32-81eb-13f637a2d506",
   "metadata": {},
   "outputs": [
    {
     "data": {
      "text/html": [
       "<div>\n",
       "<style scoped>\n",
       "    .dataframe tbody tr th:only-of-type {\n",
       "        vertical-align: middle;\n",
       "    }\n",
       "\n",
       "    .dataframe tbody tr th {\n",
       "        vertical-align: top;\n",
       "    }\n",
       "\n",
       "    .dataframe thead th {\n",
       "        text-align: right;\n",
       "    }\n",
       "</style>\n",
       "<table border=\"1\" class=\"dataframe\">\n",
       "  <thead>\n",
       "    <tr style=\"text-align: right;\">\n",
       "      <th></th>\n",
       "      <th>Item</th>\n",
       "      <th>Quantity</th>\n",
       "      <th>Price Per Unit</th>\n",
       "      <th>Total Spent</th>\n",
       "      <th>Payment Method</th>\n",
       "      <th>Location</th>\n",
       "      <th>Transaction Date</th>\n",
       "    </tr>\n",
       "  </thead>\n",
       "  <tbody>\n",
       "    <tr>\n",
       "      <th>0</th>\n",
       "      <td>Coffee</td>\n",
       "      <td>2.0</td>\n",
       "      <td>2.0</td>\n",
       "      <td>4.0</td>\n",
       "      <td>Credit Card</td>\n",
       "      <td>Takeaway</td>\n",
       "      <td>08-09-2023</td>\n",
       "    </tr>\n",
       "    <tr>\n",
       "      <th>1</th>\n",
       "      <td>Cake</td>\n",
       "      <td>4.0</td>\n",
       "      <td>3.0</td>\n",
       "      <td>12.0</td>\n",
       "      <td>Cash</td>\n",
       "      <td>In-store</td>\n",
       "      <td>16-05-2023</td>\n",
       "    </tr>\n",
       "    <tr>\n",
       "      <th>2</th>\n",
       "      <td>Cookie</td>\n",
       "      <td>4.0</td>\n",
       "      <td>1.0</td>\n",
       "      <td>4.0</td>\n",
       "      <td>Credit Card</td>\n",
       "      <td>In-store</td>\n",
       "      <td>19-07-2023</td>\n",
       "    </tr>\n",
       "    <tr>\n",
       "      <th>3</th>\n",
       "      <td>Salad</td>\n",
       "      <td>2.0</td>\n",
       "      <td>5.0</td>\n",
       "      <td>10.0</td>\n",
       "      <td>Digital Wallet</td>\n",
       "      <td>UNKNOWN</td>\n",
       "      <td>27-04-2023</td>\n",
       "    </tr>\n",
       "    <tr>\n",
       "      <th>4</th>\n",
       "      <td>Coffee</td>\n",
       "      <td>2.0</td>\n",
       "      <td>2.0</td>\n",
       "      <td>4.0</td>\n",
       "      <td>Digital Wallet</td>\n",
       "      <td>In-store</td>\n",
       "      <td>11-06-2023</td>\n",
       "    </tr>\n",
       "  </tbody>\n",
       "</table>\n",
       "</div>"
      ],
      "text/plain": [
       "     Item  Quantity  Price Per Unit  Total Spent  Payment Method  Location  \\\n",
       "0  Coffee       2.0             2.0          4.0     Credit Card  Takeaway   \n",
       "1    Cake       4.0             3.0         12.0            Cash  In-store   \n",
       "2  Cookie       4.0             1.0          4.0     Credit Card  In-store   \n",
       "3   Salad       2.0             5.0         10.0  Digital Wallet   UNKNOWN   \n",
       "4  Coffee       2.0             2.0          4.0  Digital Wallet  In-store   \n",
       "\n",
       "  Transaction Date  \n",
       "0       08-09-2023  \n",
       "1       16-05-2023  \n",
       "2       19-07-2023  \n",
       "3       27-04-2023  \n",
       "4       11-06-2023  "
      ]
     },
     "execution_count": 68,
     "metadata": {},
     "output_type": "execute_result"
    }
   ],
   "source": [
    "data.head()"
   ]
  },
  {
   "cell_type": "code",
   "execution_count": 69,
   "id": "38ceab8d-5499-43f2-b0ec-ad6be00f35be",
   "metadata": {},
   "outputs": [
    {
     "data": {
      "text/plain": [
       "Payment Method\n",
       "Digital Wallet    4915\n",
       "Credit Card       2032\n",
       "Cash              2032\n",
       "Name: count, dtype: int64"
      ]
     },
     "execution_count": 69,
     "metadata": {},
     "output_type": "execute_result"
    }
   ],
   "source": [
    "data['Payment Method'].value_counts()"
   ]
  },
  {
   "cell_type": "code",
   "execution_count": 70,
   "id": "f38e3df3-fb7a-48bf-87dd-a5950412c433",
   "metadata": {},
   "outputs": [
    {
     "name": "stdout",
     "output_type": "stream",
     "text": [
      "Before cleaning: \n",
      "Location\n",
      "NaN         2932\n",
      "Takeaway    2707\n",
      "In-store    2707\n",
      "ERROR        323\n",
      "UNKNOWN      310\n",
      "Name: count, dtype: int64\n"
     ]
    }
   ],
   "source": [
    "location_counts = data['Location'].value_counts(dropna = False)\n",
    "print(\"Before cleaning: \")\n",
    "print(location_counts)"
   ]
  },
  {
   "cell_type": "code",
   "execution_count": 71,
   "id": "3a44959d-7cee-46a4-9c4a-2c8e85a45361",
   "metadata": {},
   "outputs": [
    {
     "data": {
      "text/plain": [
       "(8979, 7)"
      ]
     },
     "execution_count": 71,
     "metadata": {},
     "output_type": "execute_result"
    }
   ],
   "source": [
    "data.shape"
   ]
  },
  {
   "cell_type": "code",
   "execution_count": 72,
   "id": "d44201ab-3800-429e-9284-770c94d7c774",
   "metadata": {},
   "outputs": [
    {
     "name": "stdout",
     "output_type": "stream",
     "text": [
      "\n",
      "Cross-tabulation of Payment Method vs Location:\n",
      "Location        ERROR  In-store  Takeaway  UNKNOWN   All\n",
      "Payment Method                                          \n",
      "Cash               76       628       593       65  1362\n",
      "Credit Card        74       609       602       77  1362\n",
      "Digital Wallet    173      1470      1512      168  3323\n",
      "All               323      2707      2707      310  6047\n"
     ]
    }
   ],
   "source": [
    "print(\"\\nCross-tabulation of Payment Method vs Location:\")\n",
    "print(pd.crosstab(data['Payment Method'], data['Location'], margins=True))"
   ]
  },
  {
   "cell_type": "code",
   "execution_count": 73,
   "id": "569af9cd-76da-469e-9ebf-e68433e84231",
   "metadata": {},
   "outputs": [
    {
     "name": "stdout",
     "output_type": "stream",
     "text": [
      "\n",
      "Mode location: In-store\n"
     ]
    }
   ],
   "source": [
    "valid_locations = data['Location'].copy()\n",
    "valid_locations = valid_locations[~valid_locations.isin([None, np.nan, 'UNKNOWN', 'ERROR'])]\n",
    "mode_value = valid_locations.mode()[0]  # Will be either \"Takeaway\" or \"In-store\"\n",
    "\n",
    "print(f\"\\nMode location: {mode_value}\")\n"
   ]
  },
  {
   "cell_type": "code",
   "execution_count": 74,
   "id": "bf1959da-eba2-44db-88e6-3b59e8595893",
   "metadata": {},
   "outputs": [],
   "source": [
    "data['Location'] = data['Location'].fillna(mode_value)\n",
    "data['Location'] = data['Location'].replace(['UNKNOWN', 'ERROR'], mode_value)"
   ]
  },
  {
   "cell_type": "code",
   "execution_count": 75,
   "id": "6bad7483-8ba3-4793-8cef-120e9f1ffbc8",
   "metadata": {},
   "outputs": [
    {
     "data": {
      "text/plain": [
       "Location\n",
       "In-store    6272\n",
       "Takeaway    2707\n",
       "Name: count, dtype: int64"
      ]
     },
     "execution_count": 75,
     "metadata": {},
     "output_type": "execute_result"
    }
   ],
   "source": [
    "data['Location'].value_counts(dropna = False)"
   ]
  },
  {
   "cell_type": "code",
   "execution_count": 76,
   "id": "2a93be18-13f1-4295-a0f6-24be0c594bf0",
   "metadata": {},
   "outputs": [
    {
     "data": {
      "text/plain": [
       "np.int64(8979)"
      ]
     },
     "execution_count": 76,
     "metadata": {},
     "output_type": "execute_result"
    }
   ],
   "source": [
    "data['Location'].value_counts(dropna = False).sum()"
   ]
  },
  {
   "cell_type": "code",
   "execution_count": 77,
   "id": "4f247f6a-cc48-4f8e-923d-c99e26946f28",
   "metadata": {},
   "outputs": [
    {
     "data": {
      "text/plain": [
       "8979"
      ]
     },
     "execution_count": 77,
     "metadata": {},
     "output_type": "execute_result"
    }
   ],
   "source": [
    "len(data['Location'])"
   ]
  },
  {
   "cell_type": "code",
   "execution_count": 78,
   "id": "af7c64ac-1eac-484c-b492-ca86ddb2860e",
   "metadata": {},
   "outputs": [],
   "source": [
    "data['Location'] = data['Location'].str.title()"
   ]
  },
  {
   "cell_type": "code",
   "execution_count": 79,
   "id": "348967f8-7eaa-405c-8ca3-90e1b14f7f73",
   "metadata": {},
   "outputs": [
    {
     "name": "stdout",
     "output_type": "stream",
     "text": [
      "After cleaning: \n",
      "Location\n",
      "In-Store    6272\n",
      "Takeaway    2707\n",
      "Name: count, dtype: int64\n"
     ]
    }
   ],
   "source": [
    "print(\"After cleaning: \")\n",
    "print(data['Location'].value_counts())"
   ]
  },
  {
   "cell_type": "code",
   "execution_count": 80,
   "id": "d2f70f63-2148-4f3f-ade8-33b5ff102a61",
   "metadata": {},
   "outputs": [
    {
     "data": {
      "text/plain": [
       "Transaction Date\n",
       "False    8838\n",
       "True      141\n",
       "Name: count, dtype: int64"
      ]
     },
     "execution_count": 80,
     "metadata": {},
     "output_type": "execute_result"
    }
   ],
   "source": [
    "pd.isna(data['Transaction Date']).value_counts()"
   ]
  },
  {
   "cell_type": "markdown",
   "id": "28c8d95f-8270-4ac2-abd2-3d9ffe7ceffd",
   "metadata": {},
   "source": [
    "## Transaction Date"
   ]
  },
  {
   "cell_type": "code",
   "execution_count": 81,
   "id": "0f84fb65-30c6-4c70-89d1-e713881b2d63",
   "metadata": {},
   "outputs": [],
   "source": [
    "from datetime import datetime"
   ]
  },
  {
   "cell_type": "code",
   "execution_count": 82,
   "id": "c7250211-1e2a-49d8-ac75-8c12bbb577fd",
   "metadata": {},
   "outputs": [
    {
     "name": "stdout",
     "output_type": "stream",
     "text": [
      "Before cleaning: \n",
      "Transaction Date\n",
      "UNKNOWN       145\n",
      "NaN           141\n",
      "ERROR         129\n",
      "13-03-2023     39\n",
      "24-07-2023     37\n",
      "21-07-2023     36\n",
      "30-06-2023     36\n",
      "21-09-2023     35\n",
      "22-10-2023     35\n",
      "05-01-2023     35\n",
      "Name: count, dtype: int64\n"
     ]
    }
   ],
   "source": [
    "print(\"Before cleaning: \")\n",
    "print(data['Transaction Date'].value_counts(dropna = False).head(10))"
   ]
  },
  {
   "cell_type": "code",
   "execution_count": 83,
   "id": "e95a540e-48fe-4e95-ade2-4fc7e41121fc",
   "metadata": {},
   "outputs": [],
   "source": [
    "valid_dates = data['Transaction Date'].copy()\n",
    "valid_dates = valid_dates[~valid_dates.isin(['UNKNOWN', 'ERROR'])]\n",
    "valid_dates_dt = pd.to_datetime(valid_dates, format = '%d-%m-%Y', errors = 'coerce')\n",
    "median_date = valid_dates_dt.median()"
   ]
  },
  {
   "cell_type": "code",
   "execution_count": 84,
   "id": "2fc4ee31-feeb-4082-ae79-0290ea772c98",
   "metadata": {},
   "outputs": [
    {
     "data": {
      "text/plain": [
       "pandas._libs.tslibs.timestamps.Timestamp"
      ]
     },
     "execution_count": 84,
     "metadata": {},
     "output_type": "execute_result"
    }
   ],
   "source": [
    "type(median_date)"
   ]
  },
  {
   "cell_type": "code",
   "execution_count": 85,
   "id": "0b679e55-304f-4cd0-b8f1-6f935ff81718",
   "metadata": {},
   "outputs": [],
   "source": [
    "# Clean the Transaction Date column\n",
    "# 1. Convert all to datetime format\n",
    "data['Transaction Date'] = pd.to_datetime(data['Transaction Date'],\n",
    "                                          format = '%d-%m-%Y',\n",
    "                                          errors = 'coerce')"
   ]
  },
  {
   "cell_type": "code",
   "execution_count": 86,
   "id": "925295b3-1fa9-4b33-ad68-7854fb5bcb4a",
   "metadata": {},
   "outputs": [],
   "source": [
    "# 2. Replace invalid values with the median date\n",
    "data['Transaction Date'] = data['Transaction Date'].fillna(median_date)"
   ]
  },
  {
   "cell_type": "code",
   "execution_count": 87,
   "id": "d77df0db-6806-490e-b315-90897d7fd9c9",
   "metadata": {},
   "outputs": [
    {
     "data": {
      "text/plain": [
       "pandas._libs.tslibs.timestamps.Timestamp"
      ]
     },
     "execution_count": 87,
     "metadata": {},
     "output_type": "execute_result"
    }
   ],
   "source": [
    "type(data['Transaction Date'][0])"
   ]
  },
  {
   "cell_type": "code",
   "execution_count": 88,
   "id": "99c3a2ee-77f9-4ecc-92c2-63acc7951dd6",
   "metadata": {},
   "outputs": [
    {
     "name": "stdout",
     "output_type": "stream",
     "text": [
      "<class 'pandas.core.frame.DataFrame'>\n",
      "RangeIndex: 8979 entries, 0 to 8978\n",
      "Data columns (total 7 columns):\n",
      " #   Column            Non-Null Count  Dtype         \n",
      "---  ------            --------------  -----         \n",
      " 0   Item              8979 non-null   object        \n",
      " 1   Quantity          8979 non-null   float64       \n",
      " 2   Price Per Unit    8979 non-null   float64       \n",
      " 3   Total Spent       8979 non-null   float64       \n",
      " 4   Payment Method    8979 non-null   object        \n",
      " 5   Location          8979 non-null   object        \n",
      " 6   Transaction Date  8979 non-null   datetime64[ns]\n",
      "dtypes: datetime64[ns](1), float64(3), object(3)\n",
      "memory usage: 491.2+ KB\n"
     ]
    }
   ],
   "source": [
    "data.info()"
   ]
  },
  {
   "cell_type": "code",
   "execution_count": 89,
   "id": "7bab9b80-4ee6-406a-8a3a-661751d1a104",
   "metadata": {},
   "outputs": [],
   "source": [
    "# 3. Format as desired\n",
    "# For ISO format (YYYY-MM-DD):\n",
    "# data['Transaction Date'] = data['Transaction Date'].dt.strftime('%Y-%m-%d')"
   ]
  },
  {
   "cell_type": "code",
   "execution_count": 90,
   "id": "aee30387-df38-45c4-9642-8048c856773e",
   "metadata": {},
   "outputs": [
    {
     "name": "stdout",
     "output_type": "stream",
     "text": [
      "0   2023-09-08\n",
      "1   2023-05-16\n",
      "2   2023-07-19\n",
      "3   2023-04-27\n",
      "4   2023-06-11\n",
      "5   2023-03-31\n",
      "6   2023-10-28\n",
      "7   2023-12-31\n",
      "8   2023-11-07\n",
      "9   2023-07-02\n",
      "Name: Transaction Date, dtype: datetime64[ns]\n",
      "Any null values remaining:  0\n"
     ]
    }
   ],
   "source": [
    "# check results\n",
    "print(data['Transaction Date'].head(10))\n",
    "print(\"Any null values remaining: \", data['Transaction Date'].isna().sum())"
   ]
  },
  {
   "cell_type": "code",
   "execution_count": 91,
   "id": "89a1ecf5-4152-48bf-a922-e72d7a0963b3",
   "metadata": {},
   "outputs": [
    {
     "data": {
      "text/html": [
       "<div>\n",
       "<style scoped>\n",
       "    .dataframe tbody tr th:only-of-type {\n",
       "        vertical-align: middle;\n",
       "    }\n",
       "\n",
       "    .dataframe tbody tr th {\n",
       "        vertical-align: top;\n",
       "    }\n",
       "\n",
       "    .dataframe thead th {\n",
       "        text-align: right;\n",
       "    }\n",
       "</style>\n",
       "<table border=\"1\" class=\"dataframe\">\n",
       "  <thead>\n",
       "    <tr style=\"text-align: right;\">\n",
       "      <th></th>\n",
       "      <th>Item</th>\n",
       "      <th>Quantity</th>\n",
       "      <th>Price Per Unit</th>\n",
       "      <th>Total Spent</th>\n",
       "      <th>Payment Method</th>\n",
       "      <th>Location</th>\n",
       "      <th>Transaction Date</th>\n",
       "    </tr>\n",
       "  </thead>\n",
       "  <tbody>\n",
       "    <tr>\n",
       "      <th>0</th>\n",
       "      <td>Coffee</td>\n",
       "      <td>2.0</td>\n",
       "      <td>2.0</td>\n",
       "      <td>4.0</td>\n",
       "      <td>Credit Card</td>\n",
       "      <td>Takeaway</td>\n",
       "      <td>2023-09-08</td>\n",
       "    </tr>\n",
       "    <tr>\n",
       "      <th>1</th>\n",
       "      <td>Cake</td>\n",
       "      <td>4.0</td>\n",
       "      <td>3.0</td>\n",
       "      <td>12.0</td>\n",
       "      <td>Cash</td>\n",
       "      <td>In-Store</td>\n",
       "      <td>2023-05-16</td>\n",
       "    </tr>\n",
       "    <tr>\n",
       "      <th>2</th>\n",
       "      <td>Cookie</td>\n",
       "      <td>4.0</td>\n",
       "      <td>1.0</td>\n",
       "      <td>4.0</td>\n",
       "      <td>Credit Card</td>\n",
       "      <td>In-Store</td>\n",
       "      <td>2023-07-19</td>\n",
       "    </tr>\n",
       "    <tr>\n",
       "      <th>3</th>\n",
       "      <td>Salad</td>\n",
       "      <td>2.0</td>\n",
       "      <td>5.0</td>\n",
       "      <td>10.0</td>\n",
       "      <td>Digital Wallet</td>\n",
       "      <td>In-Store</td>\n",
       "      <td>2023-04-27</td>\n",
       "    </tr>\n",
       "    <tr>\n",
       "      <th>4</th>\n",
       "      <td>Coffee</td>\n",
       "      <td>2.0</td>\n",
       "      <td>2.0</td>\n",
       "      <td>4.0</td>\n",
       "      <td>Digital Wallet</td>\n",
       "      <td>In-Store</td>\n",
       "      <td>2023-06-11</td>\n",
       "    </tr>\n",
       "  </tbody>\n",
       "</table>\n",
       "</div>"
      ],
      "text/plain": [
       "     Item  Quantity  Price Per Unit  Total Spent  Payment Method  Location  \\\n",
       "0  Coffee       2.0             2.0          4.0     Credit Card  Takeaway   \n",
       "1    Cake       4.0             3.0         12.0            Cash  In-Store   \n",
       "2  Cookie       4.0             1.0          4.0     Credit Card  In-Store   \n",
       "3   Salad       2.0             5.0         10.0  Digital Wallet  In-Store   \n",
       "4  Coffee       2.0             2.0          4.0  Digital Wallet  In-Store   \n",
       "\n",
       "  Transaction Date  \n",
       "0       2023-09-08  \n",
       "1       2023-05-16  \n",
       "2       2023-07-19  \n",
       "3       2023-04-27  \n",
       "4       2023-06-11  "
      ]
     },
     "execution_count": 91,
     "metadata": {},
     "output_type": "execute_result"
    }
   ],
   "source": [
    "data.head()"
   ]
  },
  {
   "cell_type": "markdown",
   "id": "bc20286e-cf30-4254-a351-fa04118e02f2",
   "metadata": {},
   "source": [
    "## Datetime Type Error / after use to_csv"
   ]
  },
  {
   "cell_type": "code",
   "execution_count": 92,
   "id": "3d2115de-b372-466c-97eb-c0e98a236f1d",
   "metadata": {},
   "outputs": [],
   "source": [
    "data.to_csv('Cleaned_sales_data_final.csv', index = False)"
   ]
  },
  {
   "cell_type": "code",
   "execution_count": 93,
   "id": "833bf1eb-a54a-4bb2-a912-397a5bca5277",
   "metadata": {},
   "outputs": [],
   "source": [
    "Loading_the_data = pd.read_csv('Cleaned_sales_data_final.csv')"
   ]
  },
  {
   "cell_type": "code",
   "execution_count": 94,
   "id": "739df206-45f5-4e37-9a63-a5ad99d2e92b",
   "metadata": {},
   "outputs": [
    {
     "name": "stdout",
     "output_type": "stream",
     "text": [
      "<class 'pandas.core.frame.DataFrame'>\n",
      "RangeIndex: 8979 entries, 0 to 8978\n",
      "Data columns (total 7 columns):\n",
      " #   Column            Non-Null Count  Dtype  \n",
      "---  ------            --------------  -----  \n",
      " 0   Item              8979 non-null   object \n",
      " 1   Quantity          8979 non-null   float64\n",
      " 2   Price Per Unit    8979 non-null   float64\n",
      " 3   Total Spent       8979 non-null   float64\n",
      " 4   Payment Method    8979 non-null   object \n",
      " 5   Location          8979 non-null   object \n",
      " 6   Transaction Date  8979 non-null   object \n",
      "dtypes: float64(3), object(4)\n",
      "memory usage: 491.2+ KB\n"
     ]
    }
   ],
   "source": [
    "Loading_the_data.info()"
   ]
  },
  {
   "cell_type": "code",
   "execution_count": 95,
   "id": "658ff13e-e4d3-4351-955a-79be6bca4968",
   "metadata": {},
   "outputs": [
    {
     "name": "stdout",
     "output_type": "stream",
     "text": [
      "<class 'pandas.core.frame.DataFrame'>\n",
      "RangeIndex: 8979 entries, 0 to 8978\n",
      "Data columns (total 7 columns):\n",
      " #   Column            Non-Null Count  Dtype         \n",
      "---  ------            --------------  -----         \n",
      " 0   Item              8979 non-null   object        \n",
      " 1   Quantity          8979 non-null   float64       \n",
      " 2   Price Per Unit    8979 non-null   float64       \n",
      " 3   Total Spent       8979 non-null   float64       \n",
      " 4   Payment Method    8979 non-null   object        \n",
      " 5   Location          8979 non-null   object        \n",
      " 6   Transaction Date  8979 non-null   datetime64[ns]\n",
      "dtypes: datetime64[ns](1), float64(3), object(3)\n",
      "memory usage: 491.2+ KB\n"
     ]
    }
   ],
   "source": [
    "data.info()"
   ]
  },
  {
   "cell_type": "code",
   "execution_count": 96,
   "id": "4e5dcdfc-d622-43d4-81a4-40b144bfd7e0",
   "metadata": {},
   "outputs": [
    {
     "data": {
      "text/html": [
       "<div>\n",
       "<style scoped>\n",
       "    .dataframe tbody tr th:only-of-type {\n",
       "        vertical-align: middle;\n",
       "    }\n",
       "\n",
       "    .dataframe tbody tr th {\n",
       "        vertical-align: top;\n",
       "    }\n",
       "\n",
       "    .dataframe thead th {\n",
       "        text-align: right;\n",
       "    }\n",
       "</style>\n",
       "<table border=\"1\" class=\"dataframe\">\n",
       "  <thead>\n",
       "    <tr style=\"text-align: right;\">\n",
       "      <th></th>\n",
       "      <th>Item</th>\n",
       "      <th>Quantity</th>\n",
       "      <th>Price Per Unit</th>\n",
       "      <th>Total Spent</th>\n",
       "      <th>Payment Method</th>\n",
       "      <th>Location</th>\n",
       "      <th>Transaction Date</th>\n",
       "    </tr>\n",
       "  </thead>\n",
       "  <tbody>\n",
       "    <tr>\n",
       "      <th>0</th>\n",
       "      <td>Coffee</td>\n",
       "      <td>2.0</td>\n",
       "      <td>2.0</td>\n",
       "      <td>4.0</td>\n",
       "      <td>Credit Card</td>\n",
       "      <td>Takeaway</td>\n",
       "      <td>2023-09-08</td>\n",
       "    </tr>\n",
       "    <tr>\n",
       "      <th>1</th>\n",
       "      <td>Cake</td>\n",
       "      <td>4.0</td>\n",
       "      <td>3.0</td>\n",
       "      <td>12.0</td>\n",
       "      <td>Cash</td>\n",
       "      <td>In-Store</td>\n",
       "      <td>2023-05-16</td>\n",
       "    </tr>\n",
       "    <tr>\n",
       "      <th>2</th>\n",
       "      <td>Cookie</td>\n",
       "      <td>4.0</td>\n",
       "      <td>1.0</td>\n",
       "      <td>4.0</td>\n",
       "      <td>Credit Card</td>\n",
       "      <td>In-Store</td>\n",
       "      <td>2023-07-19</td>\n",
       "    </tr>\n",
       "    <tr>\n",
       "      <th>3</th>\n",
       "      <td>Salad</td>\n",
       "      <td>2.0</td>\n",
       "      <td>5.0</td>\n",
       "      <td>10.0</td>\n",
       "      <td>Digital Wallet</td>\n",
       "      <td>In-Store</td>\n",
       "      <td>2023-04-27</td>\n",
       "    </tr>\n",
       "    <tr>\n",
       "      <th>4</th>\n",
       "      <td>Coffee</td>\n",
       "      <td>2.0</td>\n",
       "      <td>2.0</td>\n",
       "      <td>4.0</td>\n",
       "      <td>Digital Wallet</td>\n",
       "      <td>In-Store</td>\n",
       "      <td>2023-06-11</td>\n",
       "    </tr>\n",
       "    <tr>\n",
       "      <th>...</th>\n",
       "      <td>...</td>\n",
       "      <td>...</td>\n",
       "      <td>...</td>\n",
       "      <td>...</td>\n",
       "      <td>...</td>\n",
       "      <td>...</td>\n",
       "      <td>...</td>\n",
       "    </tr>\n",
       "    <tr>\n",
       "      <th>8974</th>\n",
       "      <td>Smoothie</td>\n",
       "      <td>2.0</td>\n",
       "      <td>4.0</td>\n",
       "      <td>8.0</td>\n",
       "      <td>Cash</td>\n",
       "      <td>In-Store</td>\n",
       "      <td>2023-10-20</td>\n",
       "    </tr>\n",
       "    <tr>\n",
       "      <th>8975</th>\n",
       "      <td>Coffee</td>\n",
       "      <td>2.0</td>\n",
       "      <td>2.0</td>\n",
       "      <td>4.0</td>\n",
       "      <td>Digital Wallet</td>\n",
       "      <td>In-Store</td>\n",
       "      <td>2023-08-30</td>\n",
       "    </tr>\n",
       "    <tr>\n",
       "      <th>8976</th>\n",
       "      <td>Coffee</td>\n",
       "      <td>4.0</td>\n",
       "      <td>2.0</td>\n",
       "      <td>8.0</td>\n",
       "      <td>Digital Wallet</td>\n",
       "      <td>In-Store</td>\n",
       "      <td>2023-03-02</td>\n",
       "    </tr>\n",
       "    <tr>\n",
       "      <th>8977</th>\n",
       "      <td>Cookie</td>\n",
       "      <td>3.0</td>\n",
       "      <td>1.0</td>\n",
       "      <td>3.0</td>\n",
       "      <td>Digital Wallet</td>\n",
       "      <td>In-Store</td>\n",
       "      <td>2023-12-02</td>\n",
       "    </tr>\n",
       "    <tr>\n",
       "      <th>8978</th>\n",
       "      <td>Sandwich</td>\n",
       "      <td>3.0</td>\n",
       "      <td>4.0</td>\n",
       "      <td>12.0</td>\n",
       "      <td>Cash</td>\n",
       "      <td>In-Store</td>\n",
       "      <td>2023-11-07</td>\n",
       "    </tr>\n",
       "  </tbody>\n",
       "</table>\n",
       "<p>8979 rows × 7 columns</p>\n",
       "</div>"
      ],
      "text/plain": [
       "          Item  Quantity  Price Per Unit  Total Spent  Payment Method  \\\n",
       "0       Coffee       2.0             2.0          4.0     Credit Card   \n",
       "1         Cake       4.0             3.0         12.0            Cash   \n",
       "2       Cookie       4.0             1.0          4.0     Credit Card   \n",
       "3        Salad       2.0             5.0         10.0  Digital Wallet   \n",
       "4       Coffee       2.0             2.0          4.0  Digital Wallet   \n",
       "...        ...       ...             ...          ...             ...   \n",
       "8974  Smoothie       2.0             4.0          8.0            Cash   \n",
       "8975    Coffee       2.0             2.0          4.0  Digital Wallet   \n",
       "8976    Coffee       4.0             2.0          8.0  Digital Wallet   \n",
       "8977    Cookie       3.0             1.0          3.0  Digital Wallet   \n",
       "8978  Sandwich       3.0             4.0         12.0            Cash   \n",
       "\n",
       "      Location Transaction Date  \n",
       "0     Takeaway       2023-09-08  \n",
       "1     In-Store       2023-05-16  \n",
       "2     In-Store       2023-07-19  \n",
       "3     In-Store       2023-04-27  \n",
       "4     In-Store       2023-06-11  \n",
       "...        ...              ...  \n",
       "8974  In-Store       2023-10-20  \n",
       "8975  In-Store       2023-08-30  \n",
       "8976  In-Store       2023-03-02  \n",
       "8977  In-Store       2023-12-02  \n",
       "8978  In-Store       2023-11-07  \n",
       "\n",
       "[8979 rows x 7 columns]"
      ]
     },
     "execution_count": 96,
     "metadata": {},
     "output_type": "execute_result"
    }
   ],
   "source": [
    "Loading_the_data"
   ]
  },
  {
   "cell_type": "markdown",
   "id": "b0a43fe3-e6ae-44a4-be8e-b0a637b8690a",
   "metadata": {},
   "source": [
    "## ____________________________________"
   ]
  },
  {
   "cell_type": "code",
   "execution_count": 97,
   "id": "730e5400-8919-439a-b805-2d4cc75ec29e",
   "metadata": {},
   "outputs": [
    {
     "name": "stdout",
     "output_type": "stream",
     "text": [
      "Cleaned data has been written back to processed_categorical_rows.csv\n"
     ]
    }
   ],
   "source": [
    "file_path = 'processed_categorical_rows.csv'  # Replace with your actual file path\n",
    "data.to_csv(file_path, index=False)\n",
    "print(f\"Cleaned data has been written back to {file_path}\")"
   ]
  },
  {
   "cell_type": "code",
   "execution_count": 98,
   "id": "feca711f-3e8b-4f80-82de-4ca1db0df95f",
   "metadata": {},
   "outputs": [
    {
     "data": {
      "text/plain": [
       "(8979, 7)"
      ]
     },
     "execution_count": 98,
     "metadata": {},
     "output_type": "execute_result"
    }
   ],
   "source": [
    "\n",
    "data.shape"
   ]
  },
  {
   "cell_type": "code",
   "execution_count": 99,
   "id": "4456a738-231a-4f0b-badf-a24150bfc26f",
   "metadata": {},
   "outputs": [],
   "source": [
    "load_data = pd.read_csv('processed_categorical_rows.csv')"
   ]
  },
  {
   "cell_type": "code",
   "execution_count": 100,
   "id": "6e64290b-4e8d-4bc5-a355-cc0f06a65965",
   "metadata": {},
   "outputs": [
    {
     "data": {
      "text/html": [
       "<div>\n",
       "<style scoped>\n",
       "    .dataframe tbody tr th:only-of-type {\n",
       "        vertical-align: middle;\n",
       "    }\n",
       "\n",
       "    .dataframe tbody tr th {\n",
       "        vertical-align: top;\n",
       "    }\n",
       "\n",
       "    .dataframe thead th {\n",
       "        text-align: right;\n",
       "    }\n",
       "</style>\n",
       "<table border=\"1\" class=\"dataframe\">\n",
       "  <thead>\n",
       "    <tr style=\"text-align: right;\">\n",
       "      <th></th>\n",
       "      <th>Item</th>\n",
       "      <th>Quantity</th>\n",
       "      <th>Price Per Unit</th>\n",
       "      <th>Total Spent</th>\n",
       "      <th>Payment Method</th>\n",
       "      <th>Location</th>\n",
       "      <th>Transaction Date</th>\n",
       "    </tr>\n",
       "  </thead>\n",
       "  <tbody>\n",
       "    <tr>\n",
       "      <th>0</th>\n",
       "      <td>Coffee</td>\n",
       "      <td>2.0</td>\n",
       "      <td>2.0</td>\n",
       "      <td>4.0</td>\n",
       "      <td>Credit Card</td>\n",
       "      <td>Takeaway</td>\n",
       "      <td>2023-09-08</td>\n",
       "    </tr>\n",
       "    <tr>\n",
       "      <th>1</th>\n",
       "      <td>Cake</td>\n",
       "      <td>4.0</td>\n",
       "      <td>3.0</td>\n",
       "      <td>12.0</td>\n",
       "      <td>Cash</td>\n",
       "      <td>In-Store</td>\n",
       "      <td>2023-05-16</td>\n",
       "    </tr>\n",
       "    <tr>\n",
       "      <th>2</th>\n",
       "      <td>Cookie</td>\n",
       "      <td>4.0</td>\n",
       "      <td>1.0</td>\n",
       "      <td>4.0</td>\n",
       "      <td>Credit Card</td>\n",
       "      <td>In-Store</td>\n",
       "      <td>2023-07-19</td>\n",
       "    </tr>\n",
       "    <tr>\n",
       "      <th>3</th>\n",
       "      <td>Salad</td>\n",
       "      <td>2.0</td>\n",
       "      <td>5.0</td>\n",
       "      <td>10.0</td>\n",
       "      <td>Digital Wallet</td>\n",
       "      <td>In-Store</td>\n",
       "      <td>2023-04-27</td>\n",
       "    </tr>\n",
       "    <tr>\n",
       "      <th>4</th>\n",
       "      <td>Coffee</td>\n",
       "      <td>2.0</td>\n",
       "      <td>2.0</td>\n",
       "      <td>4.0</td>\n",
       "      <td>Digital Wallet</td>\n",
       "      <td>In-Store</td>\n",
       "      <td>2023-06-11</td>\n",
       "    </tr>\n",
       "  </tbody>\n",
       "</table>\n",
       "</div>"
      ],
      "text/plain": [
       "     Item  Quantity  Price Per Unit  Total Spent  Payment Method  Location  \\\n",
       "0  Coffee       2.0             2.0          4.0     Credit Card  Takeaway   \n",
       "1    Cake       4.0             3.0         12.0            Cash  In-Store   \n",
       "2  Cookie       4.0             1.0          4.0     Credit Card  In-Store   \n",
       "3   Salad       2.0             5.0         10.0  Digital Wallet  In-Store   \n",
       "4  Coffee       2.0             2.0          4.0  Digital Wallet  In-Store   \n",
       "\n",
       "  Transaction Date  \n",
       "0       2023-09-08  \n",
       "1       2023-05-16  \n",
       "2       2023-07-19  \n",
       "3       2023-04-27  \n",
       "4       2023-06-11  "
      ]
     },
     "execution_count": 100,
     "metadata": {},
     "output_type": "execute_result"
    }
   ],
   "source": [
    "load_data.head()"
   ]
  },
  {
   "cell_type": "code",
   "execution_count": 101,
   "id": "efd5bf23-9389-4b60-ad0b-043d2a5afb65",
   "metadata": {},
   "outputs": [
    {
     "data": {
      "text/plain": [
       "pandas.core.series.Series"
      ]
     },
     "execution_count": 101,
     "metadata": {},
     "output_type": "execute_result"
    }
   ],
   "source": [
    "type(load_data['Transaction Date'])"
   ]
  },
  {
   "cell_type": "code",
   "execution_count": 102,
   "id": "7916c1a4-df63-4e67-8b9d-f74466f00009",
   "metadata": {},
   "outputs": [
    {
     "data": {
      "text/plain": [
       "dtype('O')"
      ]
     },
     "execution_count": 102,
     "metadata": {},
     "output_type": "execute_result"
    }
   ],
   "source": [
    "load_data['Transaction Date'].dtype"
   ]
  },
  {
   "cell_type": "code",
   "execution_count": 103,
   "id": "a828293f-5bb2-4469-ae34-05788a4dbeed",
   "metadata": {},
   "outputs": [
    {
     "name": "stdout",
     "output_type": "stream",
     "text": [
      "<class 'pandas.core.frame.DataFrame'>\n",
      "RangeIndex: 8979 entries, 0 to 8978\n",
      "Data columns (total 7 columns):\n",
      " #   Column            Non-Null Count  Dtype  \n",
      "---  ------            --------------  -----  \n",
      " 0   Item              8979 non-null   object \n",
      " 1   Quantity          8979 non-null   float64\n",
      " 2   Price Per Unit    8979 non-null   float64\n",
      " 3   Total Spent       8979 non-null   float64\n",
      " 4   Payment Method    8979 non-null   object \n",
      " 5   Location          8979 non-null   object \n",
      " 6   Transaction Date  8979 non-null   object \n",
      "dtypes: float64(3), object(4)\n",
      "memory usage: 491.2+ KB\n"
     ]
    }
   ],
   "source": [
    "load_data.info()"
   ]
  },
  {
   "cell_type": "code",
   "execution_count": 104,
   "id": "8d1336e0-fe8b-4fa8-a4fa-0493925b07e1",
   "metadata": {},
   "outputs": [
    {
     "data": {
      "text/plain": [
       "Item                 object\n",
       "Quantity            float64\n",
       "Price Per Unit      float64\n",
       "Total Spent         float64\n",
       "Payment Method       object\n",
       "Location             object\n",
       "Transaction Date     object\n",
       "dtype: object"
      ]
     },
     "execution_count": 104,
     "metadata": {},
     "output_type": "execute_result"
    }
   ],
   "source": [
    "load_data.dtypes"
   ]
  },
  {
   "cell_type": "code",
   "execution_count": 105,
   "id": "357dac58-8c8c-4d32-b7f4-4b158e6a4ce4",
   "metadata": {},
   "outputs": [
    {
     "data": {
      "text/html": [
       "<div>\n",
       "<style scoped>\n",
       "    .dataframe tbody tr th:only-of-type {\n",
       "        vertical-align: middle;\n",
       "    }\n",
       "\n",
       "    .dataframe tbody tr th {\n",
       "        vertical-align: top;\n",
       "    }\n",
       "\n",
       "    .dataframe thead th {\n",
       "        text-align: right;\n",
       "    }\n",
       "</style>\n",
       "<table border=\"1\" class=\"dataframe\">\n",
       "  <thead>\n",
       "    <tr style=\"text-align: right;\">\n",
       "      <th></th>\n",
       "      <th>Item</th>\n",
       "      <th>Quantity</th>\n",
       "      <th>Price Per Unit</th>\n",
       "      <th>Total Spent</th>\n",
       "      <th>Payment Method</th>\n",
       "      <th>Location</th>\n",
       "      <th>Transaction Date</th>\n",
       "    </tr>\n",
       "  </thead>\n",
       "  <tbody>\n",
       "    <tr>\n",
       "      <th>0</th>\n",
       "      <td>Coffee</td>\n",
       "      <td>2.0</td>\n",
       "      <td>2.0</td>\n",
       "      <td>4.0</td>\n",
       "      <td>Credit Card</td>\n",
       "      <td>Takeaway</td>\n",
       "      <td>2023-09-08</td>\n",
       "    </tr>\n",
       "    <tr>\n",
       "      <th>1</th>\n",
       "      <td>Cake</td>\n",
       "      <td>4.0</td>\n",
       "      <td>3.0</td>\n",
       "      <td>12.0</td>\n",
       "      <td>Cash</td>\n",
       "      <td>In-Store</td>\n",
       "      <td>2023-05-16</td>\n",
       "    </tr>\n",
       "    <tr>\n",
       "      <th>2</th>\n",
       "      <td>Cookie</td>\n",
       "      <td>4.0</td>\n",
       "      <td>1.0</td>\n",
       "      <td>4.0</td>\n",
       "      <td>Credit Card</td>\n",
       "      <td>In-Store</td>\n",
       "      <td>2023-07-19</td>\n",
       "    </tr>\n",
       "    <tr>\n",
       "      <th>3</th>\n",
       "      <td>Salad</td>\n",
       "      <td>2.0</td>\n",
       "      <td>5.0</td>\n",
       "      <td>10.0</td>\n",
       "      <td>Digital Wallet</td>\n",
       "      <td>In-Store</td>\n",
       "      <td>2023-04-27</td>\n",
       "    </tr>\n",
       "    <tr>\n",
       "      <th>4</th>\n",
       "      <td>Coffee</td>\n",
       "      <td>2.0</td>\n",
       "      <td>2.0</td>\n",
       "      <td>4.0</td>\n",
       "      <td>Digital Wallet</td>\n",
       "      <td>In-Store</td>\n",
       "      <td>2023-06-11</td>\n",
       "    </tr>\n",
       "    <tr>\n",
       "      <th>...</th>\n",
       "      <td>...</td>\n",
       "      <td>...</td>\n",
       "      <td>...</td>\n",
       "      <td>...</td>\n",
       "      <td>...</td>\n",
       "      <td>...</td>\n",
       "      <td>...</td>\n",
       "    </tr>\n",
       "    <tr>\n",
       "      <th>8974</th>\n",
       "      <td>Smoothie</td>\n",
       "      <td>2.0</td>\n",
       "      <td>4.0</td>\n",
       "      <td>8.0</td>\n",
       "      <td>Cash</td>\n",
       "      <td>In-Store</td>\n",
       "      <td>2023-10-20</td>\n",
       "    </tr>\n",
       "    <tr>\n",
       "      <th>8975</th>\n",
       "      <td>Coffee</td>\n",
       "      <td>2.0</td>\n",
       "      <td>2.0</td>\n",
       "      <td>4.0</td>\n",
       "      <td>Digital Wallet</td>\n",
       "      <td>In-Store</td>\n",
       "      <td>2023-08-30</td>\n",
       "    </tr>\n",
       "    <tr>\n",
       "      <th>8976</th>\n",
       "      <td>Coffee</td>\n",
       "      <td>4.0</td>\n",
       "      <td>2.0</td>\n",
       "      <td>8.0</td>\n",
       "      <td>Digital Wallet</td>\n",
       "      <td>In-Store</td>\n",
       "      <td>2023-03-02</td>\n",
       "    </tr>\n",
       "    <tr>\n",
       "      <th>8977</th>\n",
       "      <td>Cookie</td>\n",
       "      <td>3.0</td>\n",
       "      <td>1.0</td>\n",
       "      <td>3.0</td>\n",
       "      <td>Digital Wallet</td>\n",
       "      <td>In-Store</td>\n",
       "      <td>2023-12-02</td>\n",
       "    </tr>\n",
       "    <tr>\n",
       "      <th>8978</th>\n",
       "      <td>Sandwich</td>\n",
       "      <td>3.0</td>\n",
       "      <td>4.0</td>\n",
       "      <td>12.0</td>\n",
       "      <td>Cash</td>\n",
       "      <td>In-Store</td>\n",
       "      <td>2023-11-07</td>\n",
       "    </tr>\n",
       "  </tbody>\n",
       "</table>\n",
       "<p>8979 rows × 7 columns</p>\n",
       "</div>"
      ],
      "text/plain": [
       "          Item  Quantity  Price Per Unit  Total Spent  Payment Method  \\\n",
       "0       Coffee       2.0             2.0          4.0     Credit Card   \n",
       "1         Cake       4.0             3.0         12.0            Cash   \n",
       "2       Cookie       4.0             1.0          4.0     Credit Card   \n",
       "3        Salad       2.0             5.0         10.0  Digital Wallet   \n",
       "4       Coffee       2.0             2.0          4.0  Digital Wallet   \n",
       "...        ...       ...             ...          ...             ...   \n",
       "8974  Smoothie       2.0             4.0          8.0            Cash   \n",
       "8975    Coffee       2.0             2.0          4.0  Digital Wallet   \n",
       "8976    Coffee       4.0             2.0          8.0  Digital Wallet   \n",
       "8977    Cookie       3.0             1.0          3.0  Digital Wallet   \n",
       "8978  Sandwich       3.0             4.0         12.0            Cash   \n",
       "\n",
       "      Location Transaction Date  \n",
       "0     Takeaway       2023-09-08  \n",
       "1     In-Store       2023-05-16  \n",
       "2     In-Store       2023-07-19  \n",
       "3     In-Store       2023-04-27  \n",
       "4     In-Store       2023-06-11  \n",
       "...        ...              ...  \n",
       "8974  In-Store       2023-10-20  \n",
       "8975  In-Store       2023-08-30  \n",
       "8976  In-Store       2023-03-02  \n",
       "8977  In-Store       2023-12-02  \n",
       "8978  In-Store       2023-11-07  \n",
       "\n",
       "[8979 rows x 7 columns]"
      ]
     },
     "execution_count": 105,
     "metadata": {},
     "output_type": "execute_result"
    }
   ],
   "source": [
    "load_data"
   ]
  },
  {
   "cell_type": "code",
   "execution_count": null,
   "id": "2bc73dff-2c63-4542-ab37-4f8d10b32d70",
   "metadata": {},
   "outputs": [],
   "source": []
  }
 ],
 "metadata": {
  "kernelspec": {
   "display_name": "Python 3 (ipykernel)",
   "language": "python",
   "name": "python3"
  },
  "language_info": {
   "codemirror_mode": {
    "name": "ipython",
    "version": 3
   },
   "file_extension": ".py",
   "mimetype": "text/x-python",
   "name": "python",
   "nbconvert_exporter": "python",
   "pygments_lexer": "ipython3",
   "version": "3.12.3"
  }
 },
 "nbformat": 4,
 "nbformat_minor": 5
}
